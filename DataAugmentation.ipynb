{
  "nbformat": 4,
  "nbformat_minor": 0,
  "metadata": {
    "colab": {
      "provenance": [],
      "gpuType": "T4",
      "authorship_tag": "ABX9TyNFTK6x+abZne3n/3FztSJW",
      "include_colab_link": true
    },
    "kernelspec": {
      "name": "python3",
      "display_name": "Python 3"
    },
    "language_info": {
      "name": "python"
    },
    "accelerator": "GPU",
    "gpuClass": "standard"
  },
  "cells": [
    {
      "cell_type": "markdown",
      "metadata": {
        "id": "view-in-github",
        "colab_type": "text"
      },
      "source": [
        "<a href=\"https://colab.research.google.com/github/Yogeshkumar170201/Yogeshkumar170201/blob/master/DataAugmentation.ipynb\" target=\"_parent\"><img src=\"https://colab.research.google.com/assets/colab-badge.svg\" alt=\"Open In Colab\"/></a>"
      ]
    },
    {
      "cell_type": "code",
      "source": [
        "!pip install -q kaggle"
      ],
      "metadata": {
        "id": "nI3gjVfmDUII"
      },
      "execution_count": 1,
      "outputs": []
    },
    {
      "cell_type": "code",
      "source": [
        "from google.colab import files\n",
        "files.upload()"
      ],
      "metadata": {
        "colab": {
          "base_uri": "https://localhost:8080/",
          "height": 91
        },
        "id": "cMF4aUOoKX02",
        "outputId": "b7bfc90f-37ca-43c0-e657-f24b03d2ea75"
      },
      "execution_count": 2,
      "outputs": [
        {
          "output_type": "display_data",
          "data": {
            "text/plain": [
              "<IPython.core.display.HTML object>"
            ],
            "text/html": [
              "\n",
              "     <input type=\"file\" id=\"files-1609f55e-a501-4795-b6fb-42db4c6d0153\" name=\"files[]\" multiple disabled\n",
              "        style=\"border:none\" />\n",
              "     <output id=\"result-1609f55e-a501-4795-b6fb-42db4c6d0153\">\n",
              "      Upload widget is only available when the cell has been executed in the\n",
              "      current browser session. Please rerun this cell to enable.\n",
              "      </output>\n",
              "      <script>// Copyright 2017 Google LLC\n",
              "//\n",
              "// Licensed under the Apache License, Version 2.0 (the \"License\");\n",
              "// you may not use this file except in compliance with the License.\n",
              "// You may obtain a copy of the License at\n",
              "//\n",
              "//      http://www.apache.org/licenses/LICENSE-2.0\n",
              "//\n",
              "// Unless required by applicable law or agreed to in writing, software\n",
              "// distributed under the License is distributed on an \"AS IS\" BASIS,\n",
              "// WITHOUT WARRANTIES OR CONDITIONS OF ANY KIND, either express or implied.\n",
              "// See the License for the specific language governing permissions and\n",
              "// limitations under the License.\n",
              "\n",
              "/**\n",
              " * @fileoverview Helpers for google.colab Python module.\n",
              " */\n",
              "(function(scope) {\n",
              "function span(text, styleAttributes = {}) {\n",
              "  const element = document.createElement('span');\n",
              "  element.textContent = text;\n",
              "  for (const key of Object.keys(styleAttributes)) {\n",
              "    element.style[key] = styleAttributes[key];\n",
              "  }\n",
              "  return element;\n",
              "}\n",
              "\n",
              "// Max number of bytes which will be uploaded at a time.\n",
              "const MAX_PAYLOAD_SIZE = 100 * 1024;\n",
              "\n",
              "function _uploadFiles(inputId, outputId) {\n",
              "  const steps = uploadFilesStep(inputId, outputId);\n",
              "  const outputElement = document.getElementById(outputId);\n",
              "  // Cache steps on the outputElement to make it available for the next call\n",
              "  // to uploadFilesContinue from Python.\n",
              "  outputElement.steps = steps;\n",
              "\n",
              "  return _uploadFilesContinue(outputId);\n",
              "}\n",
              "\n",
              "// This is roughly an async generator (not supported in the browser yet),\n",
              "// where there are multiple asynchronous steps and the Python side is going\n",
              "// to poll for completion of each step.\n",
              "// This uses a Promise to block the python side on completion of each step,\n",
              "// then passes the result of the previous step as the input to the next step.\n",
              "function _uploadFilesContinue(outputId) {\n",
              "  const outputElement = document.getElementById(outputId);\n",
              "  const steps = outputElement.steps;\n",
              "\n",
              "  const next = steps.next(outputElement.lastPromiseValue);\n",
              "  return Promise.resolve(next.value.promise).then((value) => {\n",
              "    // Cache the last promise value to make it available to the next\n",
              "    // step of the generator.\n",
              "    outputElement.lastPromiseValue = value;\n",
              "    return next.value.response;\n",
              "  });\n",
              "}\n",
              "\n",
              "/**\n",
              " * Generator function which is called between each async step of the upload\n",
              " * process.\n",
              " * @param {string} inputId Element ID of the input file picker element.\n",
              " * @param {string} outputId Element ID of the output display.\n",
              " * @return {!Iterable<!Object>} Iterable of next steps.\n",
              " */\n",
              "function* uploadFilesStep(inputId, outputId) {\n",
              "  const inputElement = document.getElementById(inputId);\n",
              "  inputElement.disabled = false;\n",
              "\n",
              "  const outputElement = document.getElementById(outputId);\n",
              "  outputElement.innerHTML = '';\n",
              "\n",
              "  const pickedPromise = new Promise((resolve) => {\n",
              "    inputElement.addEventListener('change', (e) => {\n",
              "      resolve(e.target.files);\n",
              "    });\n",
              "  });\n",
              "\n",
              "  const cancel = document.createElement('button');\n",
              "  inputElement.parentElement.appendChild(cancel);\n",
              "  cancel.textContent = 'Cancel upload';\n",
              "  const cancelPromise = new Promise((resolve) => {\n",
              "    cancel.onclick = () => {\n",
              "      resolve(null);\n",
              "    };\n",
              "  });\n",
              "\n",
              "  // Wait for the user to pick the files.\n",
              "  const files = yield {\n",
              "    promise: Promise.race([pickedPromise, cancelPromise]),\n",
              "    response: {\n",
              "      action: 'starting',\n",
              "    }\n",
              "  };\n",
              "\n",
              "  cancel.remove();\n",
              "\n",
              "  // Disable the input element since further picks are not allowed.\n",
              "  inputElement.disabled = true;\n",
              "\n",
              "  if (!files) {\n",
              "    return {\n",
              "      response: {\n",
              "        action: 'complete',\n",
              "      }\n",
              "    };\n",
              "  }\n",
              "\n",
              "  for (const file of files) {\n",
              "    const li = document.createElement('li');\n",
              "    li.append(span(file.name, {fontWeight: 'bold'}));\n",
              "    li.append(span(\n",
              "        `(${file.type || 'n/a'}) - ${file.size} bytes, ` +\n",
              "        `last modified: ${\n",
              "            file.lastModifiedDate ? file.lastModifiedDate.toLocaleDateString() :\n",
              "                                    'n/a'} - `));\n",
              "    const percent = span('0% done');\n",
              "    li.appendChild(percent);\n",
              "\n",
              "    outputElement.appendChild(li);\n",
              "\n",
              "    const fileDataPromise = new Promise((resolve) => {\n",
              "      const reader = new FileReader();\n",
              "      reader.onload = (e) => {\n",
              "        resolve(e.target.result);\n",
              "      };\n",
              "      reader.readAsArrayBuffer(file);\n",
              "    });\n",
              "    // Wait for the data to be ready.\n",
              "    let fileData = yield {\n",
              "      promise: fileDataPromise,\n",
              "      response: {\n",
              "        action: 'continue',\n",
              "      }\n",
              "    };\n",
              "\n",
              "    // Use a chunked sending to avoid message size limits. See b/62115660.\n",
              "    let position = 0;\n",
              "    do {\n",
              "      const length = Math.min(fileData.byteLength - position, MAX_PAYLOAD_SIZE);\n",
              "      const chunk = new Uint8Array(fileData, position, length);\n",
              "      position += length;\n",
              "\n",
              "      const base64 = btoa(String.fromCharCode.apply(null, chunk));\n",
              "      yield {\n",
              "        response: {\n",
              "          action: 'append',\n",
              "          file: file.name,\n",
              "          data: base64,\n",
              "        },\n",
              "      };\n",
              "\n",
              "      let percentDone = fileData.byteLength === 0 ?\n",
              "          100 :\n",
              "          Math.round((position / fileData.byteLength) * 100);\n",
              "      percent.textContent = `${percentDone}% done`;\n",
              "\n",
              "    } while (position < fileData.byteLength);\n",
              "  }\n",
              "\n",
              "  // All done.\n",
              "  yield {\n",
              "    response: {\n",
              "      action: 'complete',\n",
              "    }\n",
              "  };\n",
              "}\n",
              "\n",
              "scope.google = scope.google || {};\n",
              "scope.google.colab = scope.google.colab || {};\n",
              "scope.google.colab._files = {\n",
              "  _uploadFiles,\n",
              "  _uploadFilesContinue,\n",
              "};\n",
              "})(self);\n",
              "</script> "
            ]
          },
          "metadata": {}
        },
        {
          "output_type": "stream",
          "name": "stdout",
          "text": [
            "Saving kaggle.json to kaggle.json\n"
          ]
        },
        {
          "output_type": "execute_result",
          "data": {
            "text/plain": [
              "{'kaggle.json': b'{\"username\":\"ykdahiya\",\"key\":\"79b26f11d46af028bf83aa38ff0920af\"}'}"
            ]
          },
          "metadata": {},
          "execution_count": 2
        }
      ]
    },
    {
      "cell_type": "code",
      "source": [
        "!mkdir ~/.kaggle"
      ],
      "metadata": {
        "id": "qJGp_7WlKX3r"
      },
      "execution_count": 3,
      "outputs": []
    },
    {
      "cell_type": "code",
      "source": [
        "!cp kaggle.json ~/.kaggle/"
      ],
      "metadata": {
        "id": "hzO3WLkEKbcu"
      },
      "execution_count": 4,
      "outputs": []
    },
    {
      "cell_type": "code",
      "source": [
        "!chmod 600 ~/.kaggle/kaggle.json"
      ],
      "metadata": {
        "id": "yLY6qGFKKbeo"
      },
      "execution_count": 5,
      "outputs": []
    },
    {
      "cell_type": "code",
      "source": [
        "!kaggle datasets download -d hasyimabdillah/workoutfitness-video"
      ],
      "metadata": {
        "colab": {
          "base_uri": "https://localhost:8080/"
        },
        "id": "GUX31X5EKbgJ",
        "outputId": "3fb6ab49-64a4-416c-dfd1-8286cacc9ea4"
      },
      "execution_count": 6,
      "outputs": [
        {
          "output_type": "stream",
          "name": "stdout",
          "text": [
            "Downloading workoutfitness-video.zip to /content\n",
            "100% 4.32G/4.32G [02:39<00:00, 27.0MB/s]\n",
            "100% 4.32G/4.32G [02:39<00:00, 29.1MB/s]\n"
          ]
        }
      ]
    },
    {
      "cell_type": "code",
      "source": [
        "!apt install unzip"
      ],
      "metadata": {
        "colab": {
          "base_uri": "https://localhost:8080/"
        },
        "id": "eSg7UdjNKbia",
        "outputId": "2f2e5eb7-6c3e-4b9d-db3a-9571de126b1c"
      },
      "execution_count": 7,
      "outputs": [
        {
          "output_type": "stream",
          "name": "stdout",
          "text": [
            "Reading package lists... Done\n",
            "Building dependency tree       \n",
            "Reading state information... Done\n",
            "unzip is already the newest version (6.0-25ubuntu1.1).\n",
            "0 upgraded, 0 newly installed, 0 to remove and 24 not upgraded.\n"
          ]
        }
      ]
    },
    {
      "cell_type": "code",
      "source": [
        "!unzip /content/workoutfitness-video.zip -d /content/datset"
      ],
      "metadata": {
        "colab": {
          "base_uri": "https://localhost:8080/"
        },
        "id": "0AdRwDM_Kbly",
        "outputId": "19db527d-0444-45ac-ea85-37987aa40291"
      },
      "execution_count": 8,
      "outputs": [
        {
          "output_type": "stream",
          "name": "stdout",
          "text": [
            "Archive:  /content/workoutfitness-video.zip\n",
            "  inflating: /content/datset/barbell biceps curl/barbell biceps curl_1.mp4  \n",
            "  inflating: /content/datset/barbell biceps curl/barbell biceps curl_10.mp4  \n",
            "  inflating: /content/datset/barbell biceps curl/barbell biceps curl_11.mp4  \n",
            "  inflating: /content/datset/barbell biceps curl/barbell biceps curl_12.mp4  \n",
            "  inflating: /content/datset/barbell biceps curl/barbell biceps curl_13.mp4  \n",
            "  inflating: /content/datset/barbell biceps curl/barbell biceps curl_14.mp4  \n",
            "  inflating: /content/datset/barbell biceps curl/barbell biceps curl_15.mp4  \n",
            "  inflating: /content/datset/barbell biceps curl/barbell biceps curl_16.mp4  \n",
            "  inflating: /content/datset/barbell biceps curl/barbell biceps curl_17.mp4  \n",
            "  inflating: /content/datset/barbell biceps curl/barbell biceps curl_18.mp4  \n",
            "  inflating: /content/datset/barbell biceps curl/barbell biceps curl_19.mp4  \n",
            "  inflating: /content/datset/barbell biceps curl/barbell biceps curl_2.mp4  \n",
            "  inflating: /content/datset/barbell biceps curl/barbell biceps curl_20.mp4  \n",
            "  inflating: /content/datset/barbell biceps curl/barbell biceps curl_21.mp4  \n",
            "  inflating: /content/datset/barbell biceps curl/barbell biceps curl_22.mp4  \n",
            "  inflating: /content/datset/barbell biceps curl/barbell biceps curl_23.mp4  \n",
            "  inflating: /content/datset/barbell biceps curl/barbell biceps curl_24.mp4  \n",
            "  inflating: /content/datset/barbell biceps curl/barbell biceps curl_25.mp4  \n",
            "  inflating: /content/datset/barbell biceps curl/barbell biceps curl_26.mp4  \n",
            "  inflating: /content/datset/barbell biceps curl/barbell biceps curl_27.mp4  \n",
            "  inflating: /content/datset/barbell biceps curl/barbell biceps curl_28.mp4  \n",
            "  inflating: /content/datset/barbell biceps curl/barbell biceps curl_29.mp4  \n",
            "  inflating: /content/datset/barbell biceps curl/barbell biceps curl_3.mp4  \n",
            "  inflating: /content/datset/barbell biceps curl/barbell biceps curl_30.mp4  \n",
            "  inflating: /content/datset/barbell biceps curl/barbell biceps curl_31.mp4  \n",
            "  inflating: /content/datset/barbell biceps curl/barbell biceps curl_32.mp4  \n",
            "  inflating: /content/datset/barbell biceps curl/barbell biceps curl_33.mp4  \n",
            "  inflating: /content/datset/barbell biceps curl/barbell biceps curl_34.mp4  \n",
            "  inflating: /content/datset/barbell biceps curl/barbell biceps curl_35.mp4  \n",
            "  inflating: /content/datset/barbell biceps curl/barbell biceps curl_36.mp4  \n",
            "  inflating: /content/datset/barbell biceps curl/barbell biceps curl_37.mp4  \n",
            "  inflating: /content/datset/barbell biceps curl/barbell biceps curl_38.mp4  \n",
            "  inflating: /content/datset/barbell biceps curl/barbell biceps curl_39.mp4  \n",
            "  inflating: /content/datset/barbell biceps curl/barbell biceps curl_4.mp4  \n",
            "  inflating: /content/datset/barbell biceps curl/barbell biceps curl_40.mp4  \n",
            "  inflating: /content/datset/barbell biceps curl/barbell biceps curl_41.mp4  \n",
            "  inflating: /content/datset/barbell biceps curl/barbell biceps curl_42.mp4  \n",
            "  inflating: /content/datset/barbell biceps curl/barbell biceps curl_43.mp4  \n",
            "  inflating: /content/datset/barbell biceps curl/barbell biceps curl_44.mp4  \n",
            "  inflating: /content/datset/barbell biceps curl/barbell biceps curl_45.mp4  \n",
            "  inflating: /content/datset/barbell biceps curl/barbell biceps curl_46.mp4  \n",
            "  inflating: /content/datset/barbell biceps curl/barbell biceps curl_47.mp4  \n",
            "  inflating: /content/datset/barbell biceps curl/barbell biceps curl_48.mp4  \n",
            "  inflating: /content/datset/barbell biceps curl/barbell biceps curl_49.mp4  \n",
            "  inflating: /content/datset/barbell biceps curl/barbell biceps curl_5.mp4  \n",
            "  inflating: /content/datset/barbell biceps curl/barbell biceps curl_50.mp4  \n",
            "  inflating: /content/datset/barbell biceps curl/barbell biceps curl_51.mp4  \n",
            "  inflating: /content/datset/barbell biceps curl/barbell biceps curl_52.mp4  \n",
            "  inflating: /content/datset/barbell biceps curl/barbell biceps curl_53.mp4  \n",
            "  inflating: /content/datset/barbell biceps curl/barbell biceps curl_54.mp4  \n",
            "  inflating: /content/datset/barbell biceps curl/barbell biceps curl_55.mp4  \n",
            "  inflating: /content/datset/barbell biceps curl/barbell biceps curl_56.mp4  \n",
            "  inflating: /content/datset/barbell biceps curl/barbell biceps curl_57.mp4  \n",
            "  inflating: /content/datset/barbell biceps curl/barbell biceps curl_58.mp4  \n",
            "  inflating: /content/datset/barbell biceps curl/barbell biceps curl_59.mp4  \n",
            "  inflating: /content/datset/barbell biceps curl/barbell biceps curl_6.mp4  \n",
            "  inflating: /content/datset/barbell biceps curl/barbell biceps curl_60.mp4  \n",
            "  inflating: /content/datset/barbell biceps curl/barbell biceps curl_61.mp4  \n",
            "  inflating: /content/datset/barbell biceps curl/barbell biceps curl_62.mp4  \n",
            "  inflating: /content/datset/barbell biceps curl/barbell biceps curl_7.mp4  \n",
            "  inflating: /content/datset/barbell biceps curl/barbell biceps curl_8.mp4  \n",
            "  inflating: /content/datset/barbell biceps curl/barbell biceps curl_9.mp4  \n",
            "  inflating: /content/datset/bench press/bench press_1.mp4  \n",
            "  inflating: /content/datset/bench press/bench press_10.mp4  \n",
            "  inflating: /content/datset/bench press/bench press_11.mp4  \n",
            "  inflating: /content/datset/bench press/bench press_12.mp4  \n",
            "  inflating: /content/datset/bench press/bench press_13.mp4  \n",
            "  inflating: /content/datset/bench press/bench press_14.mp4  \n",
            "  inflating: /content/datset/bench press/bench press_15.mp4  \n",
            "  inflating: /content/datset/bench press/bench press_16.mp4  \n",
            "  inflating: /content/datset/bench press/bench press_17.mp4  \n",
            "  inflating: /content/datset/bench press/bench press_18.mp4  \n",
            "  inflating: /content/datset/bench press/bench press_19.mp4  \n",
            "  inflating: /content/datset/bench press/bench press_2.mp4  \n",
            "  inflating: /content/datset/bench press/bench press_20.mp4  \n",
            "  inflating: /content/datset/bench press/bench press_21.mp4  \n",
            "  inflating: /content/datset/bench press/bench press_22.mp4  \n",
            "  inflating: /content/datset/bench press/bench press_23.mp4  \n",
            "  inflating: /content/datset/bench press/bench press_24.mp4  \n",
            "  inflating: /content/datset/bench press/bench press_25.mp4  \n",
            "  inflating: /content/datset/bench press/bench press_26.mp4  \n",
            "  inflating: /content/datset/bench press/bench press_27.mp4  \n",
            "  inflating: /content/datset/bench press/bench press_28.mp4  \n",
            "  inflating: /content/datset/bench press/bench press_29.mp4  \n",
            "  inflating: /content/datset/bench press/bench press_3.mp4  \n",
            "  inflating: /content/datset/bench press/bench press_30.mp4  \n",
            "  inflating: /content/datset/bench press/bench press_31.mp4  \n",
            "  inflating: /content/datset/bench press/bench press_32.mp4  \n",
            "  inflating: /content/datset/bench press/bench press_33.mp4  \n",
            "  inflating: /content/datset/bench press/bench press_34.mp4  \n",
            "  inflating: /content/datset/bench press/bench press_35.mp4  \n",
            "  inflating: /content/datset/bench press/bench press_36.mp4  \n",
            "  inflating: /content/datset/bench press/bench press_37.mp4  \n",
            "  inflating: /content/datset/bench press/bench press_38.mp4  \n",
            "  inflating: /content/datset/bench press/bench press_39.mp4  \n",
            "  inflating: /content/datset/bench press/bench press_4.mp4  \n",
            "  inflating: /content/datset/bench press/bench press_40.mp4  \n",
            "  inflating: /content/datset/bench press/bench press_41.mp4  \n",
            "  inflating: /content/datset/bench press/bench press_42.mp4  \n",
            "  inflating: /content/datset/bench press/bench press_43.mp4  \n",
            "  inflating: /content/datset/bench press/bench press_44.mp4  \n",
            "  inflating: /content/datset/bench press/bench press_45.mp4  \n",
            "  inflating: /content/datset/bench press/bench press_46.mp4  \n",
            "  inflating: /content/datset/bench press/bench press_47.mp4  \n",
            "  inflating: /content/datset/bench press/bench press_48.mp4  \n",
            "  inflating: /content/datset/bench press/bench press_49.mp4  \n",
            "  inflating: /content/datset/bench press/bench press_5.mp4  \n",
            "  inflating: /content/datset/bench press/bench press_50.mp4  \n",
            "  inflating: /content/datset/bench press/bench press_51.mp4  \n",
            "  inflating: /content/datset/bench press/bench press_52.mp4  \n",
            "  inflating: /content/datset/bench press/bench press_53.mp4  \n",
            "  inflating: /content/datset/bench press/bench press_54.mp4  \n",
            "  inflating: /content/datset/bench press/bench press_55.mp4  \n",
            "  inflating: /content/datset/bench press/bench press_56.mp4  \n",
            "  inflating: /content/datset/bench press/bench press_57.mp4  \n",
            "  inflating: /content/datset/bench press/bench press_58.mp4  \n",
            "  inflating: /content/datset/bench press/bench press_59.mp4  \n",
            "  inflating: /content/datset/bench press/bench press_6.mp4  \n",
            "  inflating: /content/datset/bench press/bench press_60.mp4  \n",
            "  inflating: /content/datset/bench press/bench press_61.mp4  \n",
            "  inflating: /content/datset/bench press/bench press_7.mp4  \n",
            "  inflating: /content/datset/bench press/bench press_8.mp4  \n",
            "  inflating: /content/datset/bench press/bench press_9.mp4  \n",
            "  inflating: /content/datset/chest fly machine/chest fly machine_1.mp4  \n",
            "  inflating: /content/datset/chest fly machine/chest fly machine_10.mp4  \n",
            "  inflating: /content/datset/chest fly machine/chest fly machine_11.mp4  \n",
            "  inflating: /content/datset/chest fly machine/chest fly machine_12.mp4  \n",
            "  inflating: /content/datset/chest fly machine/chest fly machine_13.mp4  \n",
            "  inflating: /content/datset/chest fly machine/chest fly machine_14.mp4  \n",
            "  inflating: /content/datset/chest fly machine/chest fly machine_15.mp4  \n",
            "  inflating: /content/datset/chest fly machine/chest fly machine_16.mp4  \n",
            "  inflating: /content/datset/chest fly machine/chest fly machine_17.mp4  \n",
            "  inflating: /content/datset/chest fly machine/chest fly machine_18.mp4  \n",
            "  inflating: /content/datset/chest fly machine/chest fly machine_19.mp4  \n",
            "  inflating: /content/datset/chest fly machine/chest fly machine_2.mp4  \n",
            "  inflating: /content/datset/chest fly machine/chest fly machine_20.mp4  \n",
            "  inflating: /content/datset/chest fly machine/chest fly machine_21.mp4  \n",
            "  inflating: /content/datset/chest fly machine/chest fly machine_22.mp4  \n",
            "  inflating: /content/datset/chest fly machine/chest fly machine_23.mp4  \n",
            "  inflating: /content/datset/chest fly machine/chest fly machine_24.mp4  \n",
            "  inflating: /content/datset/chest fly machine/chest fly machine_25.mp4  \n",
            "  inflating: /content/datset/chest fly machine/chest fly machine_26.mp4  \n",
            "  inflating: /content/datset/chest fly machine/chest fly machine_27.mp4  \n",
            "  inflating: /content/datset/chest fly machine/chest fly machine_28.mp4  \n",
            "  inflating: /content/datset/chest fly machine/chest fly machine_3.mp4  \n",
            "  inflating: /content/datset/chest fly machine/chest fly machine_4.mp4  \n",
            "  inflating: /content/datset/chest fly machine/chest fly machine_5.mp4  \n",
            "  inflating: /content/datset/chest fly machine/chest fly machine_6.mp4  \n",
            "  inflating: /content/datset/chest fly machine/chest fly machine_7.mp4  \n",
            "  inflating: /content/datset/chest fly machine/chest fly machine_8.mp4  \n",
            "  inflating: /content/datset/chest fly machine/chest fly machine_9.mp4  \n",
            "  inflating: /content/datset/deadlift/deadlift_1.mp4  \n",
            "  inflating: /content/datset/deadlift/deadlift_10.mp4  \n",
            "  inflating: /content/datset/deadlift/deadlift_11.mp4  \n",
            "  inflating: /content/datset/deadlift/deadlift_12.mp4  \n",
            "  inflating: /content/datset/deadlift/deadlift_13.mp4  \n",
            "  inflating: /content/datset/deadlift/deadlift_14.mp4  \n",
            "  inflating: /content/datset/deadlift/deadlift_15.mp4  \n",
            "  inflating: /content/datset/deadlift/deadlift_16.mp4  \n",
            "  inflating: /content/datset/deadlift/deadlift_17.mp4  \n",
            "  inflating: /content/datset/deadlift/deadlift_18.mp4  \n",
            "  inflating: /content/datset/deadlift/deadlift_19.mp4  \n",
            "  inflating: /content/datset/deadlift/deadlift_2.mp4  \n",
            "  inflating: /content/datset/deadlift/deadlift_20.mp4  \n",
            "  inflating: /content/datset/deadlift/deadlift_21.mp4  \n",
            "  inflating: /content/datset/deadlift/deadlift_22.mp4  \n",
            "  inflating: /content/datset/deadlift/deadlift_23.mp4  \n",
            "  inflating: /content/datset/deadlift/deadlift_24.mp4  \n",
            "  inflating: /content/datset/deadlift/deadlift_25.mp4  \n",
            "  inflating: /content/datset/deadlift/deadlift_26.mp4  \n",
            "  inflating: /content/datset/deadlift/deadlift_27.mp4  \n",
            "  inflating: /content/datset/deadlift/deadlift_28.mp4  \n",
            "  inflating: /content/datset/deadlift/deadlift_29.mp4  \n",
            "  inflating: /content/datset/deadlift/deadlift_3.mp4  \n",
            "  inflating: /content/datset/deadlift/deadlift_30.mp4  \n",
            "  inflating: /content/datset/deadlift/deadlift_31.mp4  \n",
            "  inflating: /content/datset/deadlift/deadlift_32.mp4  \n",
            "  inflating: /content/datset/deadlift/deadlift_4.mp4  \n",
            "  inflating: /content/datset/deadlift/deadlift_5.mp4  \n",
            "  inflating: /content/datset/deadlift/deadlift_6.mp4  \n",
            "  inflating: /content/datset/deadlift/deadlift_7.mp4  \n",
            "  inflating: /content/datset/deadlift/deadlift_8.mp4  \n",
            "  inflating: /content/datset/deadlift/deadlift_9.mp4  \n",
            "  inflating: /content/datset/decline bench press/dbp_1.mp4  \n",
            "  inflating: /content/datset/decline bench press/dbp_10.mp4  \n",
            "  inflating: /content/datset/decline bench press/dbp_11.mp4  \n",
            "  inflating: /content/datset/decline bench press/dbp_12.mp4  \n",
            "  inflating: /content/datset/decline bench press/dbp_2.MOV  \n",
            "  inflating: /content/datset/decline bench press/dbp_3.MOV  \n",
            "  inflating: /content/datset/decline bench press/dbp_4.MOV  \n",
            "  inflating: /content/datset/decline bench press/dbp_5.MOV  \n",
            "  inflating: /content/datset/decline bench press/dbp_6.MOV  \n",
            "  inflating: /content/datset/decline bench press/dbp_7.MOV  \n",
            "  inflating: /content/datset/decline bench press/dbp_8.mp4  \n",
            "  inflating: /content/datset/decline bench press/dbp_9.mp4  \n",
            "  inflating: /content/datset/hammer curl/hammer curl_1.MOV  \n",
            "  inflating: /content/datset/hammer curl/hammer curl_10.mp4  \n",
            "  inflating: /content/datset/hammer curl/hammer curl_11.mp4  \n",
            "  inflating: /content/datset/hammer curl/hammer curl_12.mp4  \n",
            "  inflating: /content/datset/hammer curl/hammer curl_13.mp4  \n",
            "  inflating: /content/datset/hammer curl/hammer curl_14.mp4  \n",
            "  inflating: /content/datset/hammer curl/hammer curl_15.mp4  \n",
            "  inflating: /content/datset/hammer curl/hammer curl_16.mp4  \n",
            "  inflating: /content/datset/hammer curl/hammer curl_17.mp4  \n",
            "  inflating: /content/datset/hammer curl/hammer curl_18.mp4  \n",
            "  inflating: /content/datset/hammer curl/hammer curl_19.mp4  \n",
            "  inflating: /content/datset/hammer curl/hammer curl_2.MOV  \n",
            "  inflating: /content/datset/hammer curl/hammer curl_3.MOV  \n",
            "  inflating: /content/datset/hammer curl/hammer curl_4.MOV  \n",
            "  inflating: /content/datset/hammer curl/hammer curl_5.MOV  \n",
            "  inflating: /content/datset/hammer curl/hammer curl_6.MOV  \n",
            "  inflating: /content/datset/hammer curl/hammer curl_7.MOV  \n",
            "  inflating: /content/datset/hammer curl/hammer curl_8.mp4  \n",
            "  inflating: /content/datset/hammer curl/hammer curl_9.mp4  \n",
            "  inflating: /content/datset/hip thrust/Barbell_Hip_Thrust_Tutorial__gluteworkout_AdobeExpress.mp4  \n",
            "  inflating: /content/datset/hip thrust/hip thrust_1.MOV  \n",
            "  inflating: /content/datset/hip thrust/hip thrust_10.mp4  \n",
            "  inflating: /content/datset/hip thrust/hip thrust_11.mp4  \n",
            "  inflating: /content/datset/hip thrust/hip thrust_12.mp4  \n",
            "  inflating: /content/datset/hip thrust/hip thrust_13.mp4  \n",
            "  inflating: /content/datset/hip thrust/hip thrust_14.mp4  \n",
            "  inflating: /content/datset/hip thrust/hip thrust_15.mp4  \n",
            "  inflating: /content/datset/hip thrust/hip thrust_16.mp4  \n",
            "  inflating: /content/datset/hip thrust/hip thrust_17.mp4  \n",
            "  inflating: /content/datset/hip thrust/hip thrust_2.MOV  \n",
            "  inflating: /content/datset/hip thrust/hip thrust_3.MOV  \n",
            "  inflating: /content/datset/hip thrust/hip thrust_4.MOV  \n",
            "  inflating: /content/datset/hip thrust/hip thrust_5.mp4  \n",
            "  inflating: /content/datset/hip thrust/hip thrust_6.mp4  \n",
            "  inflating: /content/datset/hip thrust/hip thrust_7.mp4  \n",
            "  inflating: /content/datset/hip thrust/hip thrust_8.mp4  \n",
            "  inflating: /content/datset/hip thrust/hip thrust_9.mp4  \n",
            "  inflating: /content/datset/incline bench press/incline bench press_1.mp4  \n",
            "  inflating: /content/datset/incline bench press/incline bench press_10.mp4  \n",
            "  inflating: /content/datset/incline bench press/incline bench press_11.mp4  \n",
            "  inflating: /content/datset/incline bench press/incline bench press_12.mp4  \n",
            "  inflating: /content/datset/incline bench press/incline bench press_13.mp4  \n",
            "  inflating: /content/datset/incline bench press/incline bench press_14.mp4  \n",
            "  inflating: /content/datset/incline bench press/incline bench press_15.mp4  \n",
            "  inflating: /content/datset/incline bench press/incline bench press_16.mp4  \n",
            "  inflating: /content/datset/incline bench press/incline bench press_17.mp4  \n",
            "  inflating: /content/datset/incline bench press/incline bench press_18.mp4  \n",
            "  inflating: /content/datset/incline bench press/incline bench press_19.mp4  \n",
            "  inflating: /content/datset/incline bench press/incline bench press_2.mp4  \n",
            "  inflating: /content/datset/incline bench press/incline bench press_20.mp4  \n",
            "  inflating: /content/datset/incline bench press/incline bench press_21.mp4  \n",
            "  inflating: /content/datset/incline bench press/incline bench press_22.mp4  \n",
            "  inflating: /content/datset/incline bench press/incline bench press_23.mp4  \n",
            "  inflating: /content/datset/incline bench press/incline bench press_24.mp4  \n",
            "  inflating: /content/datset/incline bench press/incline bench press_25.mp4  \n",
            "  inflating: /content/datset/incline bench press/incline bench press_26.mp4  \n",
            "  inflating: /content/datset/incline bench press/incline bench press_27.mp4  \n",
            "  inflating: /content/datset/incline bench press/incline bench press_28.mp4  \n",
            "  inflating: /content/datset/incline bench press/incline bench press_29.mp4  \n",
            "  inflating: /content/datset/incline bench press/incline bench press_3.mp4  \n",
            "  inflating: /content/datset/incline bench press/incline bench press_30.mp4  \n",
            "  inflating: /content/datset/incline bench press/incline bench press_31.mp4  \n",
            "  inflating: /content/datset/incline bench press/incline bench press_32.mp4  \n",
            "  inflating: /content/datset/incline bench press/incline bench press_33.mp4  \n",
            "  inflating: /content/datset/incline bench press/incline bench press_4.mp4  \n",
            "  inflating: /content/datset/incline bench press/incline bench press_5.mp4  \n",
            "  inflating: /content/datset/incline bench press/incline bench press_6.mp4  \n",
            "  inflating: /content/datset/incline bench press/incline bench press_7.mp4  \n",
            "  inflating: /content/datset/incline bench press/incline bench press_8.mp4  \n",
            "  inflating: /content/datset/incline bench press/incline bench press_9.mp4  \n",
            "  inflating: /content/datset/lat pulldown/lat pulldown_1.mp4  \n",
            "  inflating: /content/datset/lat pulldown/lat pulldown_10.mp4  \n",
            "  inflating: /content/datset/lat pulldown/lat pulldown_11.mp4  \n",
            "  inflating: /content/datset/lat pulldown/lat pulldown_12.mp4  \n",
            "  inflating: /content/datset/lat pulldown/lat pulldown_13.mp4  \n",
            "  inflating: /content/datset/lat pulldown/lat pulldown_14.mp4  \n",
            "  inflating: /content/datset/lat pulldown/lat pulldown_15.mp4  \n",
            "  inflating: /content/datset/lat pulldown/lat pulldown_16.mp4  \n",
            "  inflating: /content/datset/lat pulldown/lat pulldown_17.mp4  \n",
            "  inflating: /content/datset/lat pulldown/lat pulldown_18.mp4  \n",
            "  inflating: /content/datset/lat pulldown/lat pulldown_19.mp4  \n",
            "  inflating: /content/datset/lat pulldown/lat pulldown_2.mp4  \n",
            "  inflating: /content/datset/lat pulldown/lat pulldown_20.mp4  \n",
            "  inflating: /content/datset/lat pulldown/lat pulldown_21.mp4  \n",
            "  inflating: /content/datset/lat pulldown/lat pulldown_22.mp4  \n",
            "  inflating: /content/datset/lat pulldown/lat pulldown_23.mp4  \n",
            "  inflating: /content/datset/lat pulldown/lat pulldown_24.mp4  \n",
            "  inflating: /content/datset/lat pulldown/lat pulldown_25.mp4  \n",
            "  inflating: /content/datset/lat pulldown/lat pulldown_26.mp4  \n",
            "  inflating: /content/datset/lat pulldown/lat pulldown_27.mp4  \n",
            "  inflating: /content/datset/lat pulldown/lat pulldown_28.mp4  \n",
            "  inflating: /content/datset/lat pulldown/lat pulldown_29.mp4  \n",
            "  inflating: /content/datset/lat pulldown/lat pulldown_3.mp4  \n",
            "  inflating: /content/datset/lat pulldown/lat pulldown_30.mp4  \n",
            "  inflating: /content/datset/lat pulldown/lat pulldown_31.mp4  \n",
            "  inflating: /content/datset/lat pulldown/lat pulldown_32.mp4  \n",
            "  inflating: /content/datset/lat pulldown/lat pulldown_33.mp4  \n",
            "  inflating: /content/datset/lat pulldown/lat pulldown_34.mp4  \n",
            "  inflating: /content/datset/lat pulldown/lat pulldown_35.mp4  \n",
            "  inflating: /content/datset/lat pulldown/lat pulldown_36.mp4  \n",
            "  inflating: /content/datset/lat pulldown/lat pulldown_37.mp4  \n",
            "  inflating: /content/datset/lat pulldown/lat pulldown_38.mp4  \n",
            "  inflating: /content/datset/lat pulldown/lat pulldown_39.mp4  \n",
            "  inflating: /content/datset/lat pulldown/lat pulldown_4.mp4  \n",
            "  inflating: /content/datset/lat pulldown/lat pulldown_40.mp4  \n",
            "  inflating: /content/datset/lat pulldown/lat pulldown_41.mp4  \n",
            "  inflating: /content/datset/lat pulldown/lat pulldown_42.mp4  \n",
            "  inflating: /content/datset/lat pulldown/lat pulldown_43.mp4  \n",
            "  inflating: /content/datset/lat pulldown/lat pulldown_44.mp4  \n",
            "  inflating: /content/datset/lat pulldown/lat pulldown_45.mp4  \n",
            "  inflating: /content/datset/lat pulldown/lat pulldown_46.mp4  \n",
            "  inflating: /content/datset/lat pulldown/lat pulldown_47.mp4  \n",
            "  inflating: /content/datset/lat pulldown/lat pulldown_48.mp4  \n",
            "  inflating: /content/datset/lat pulldown/lat pulldown_49.mp4  \n",
            "  inflating: /content/datset/lat pulldown/lat pulldown_5.mp4  \n",
            "  inflating: /content/datset/lat pulldown/lat pulldown_50.mp4  \n",
            "  inflating: /content/datset/lat pulldown/lat pulldown_51.mp4  \n",
            "  inflating: /content/datset/lat pulldown/lat pulldown_6.mp4  \n",
            "  inflating: /content/datset/lat pulldown/lat pulldown_7.mp4  \n",
            "  inflating: /content/datset/lat pulldown/lat pulldown_8.mp4  \n",
            "  inflating: /content/datset/lat pulldown/lat pulldown_9.mp4  \n",
            "  inflating: /content/datset/lateral raise/lateral raise_1.MOV  \n",
            "  inflating: /content/datset/lateral raise/lateral raise_10.mp4  \n",
            "  inflating: /content/datset/lateral raise/lateral raise_11.mp4  \n",
            "  inflating: /content/datset/lateral raise/lateral raise_12.mp4  \n",
            "  inflating: /content/datset/lateral raise/lateral raise_13.mp4  \n",
            "  inflating: /content/datset/lateral raise/lateral raise_14.mp4  \n",
            "  inflating: /content/datset/lateral raise/lateral raise_15.mp4  \n",
            "  inflating: /content/datset/lateral raise/lateral raise_16.mp4  \n",
            "  inflating: /content/datset/lateral raise/lateral raise_17.mp4  \n",
            "  inflating: /content/datset/lateral raise/lateral raise_18.mp4  \n",
            "  inflating: /content/datset/lateral raise/lateral raise_19.mp4  \n",
            "  inflating: /content/datset/lateral raise/lateral raise_2.MOV  \n",
            "  inflating: /content/datset/lateral raise/lateral raise_20.mp4  \n",
            "  inflating: /content/datset/lateral raise/lateral raise_21.mp4  \n",
            "  inflating: /content/datset/lateral raise/lateral raise_22.mp4  \n",
            "  inflating: /content/datset/lateral raise/lateral raise_23.mp4  \n",
            "  inflating: /content/datset/lateral raise/lateral raise_24.mp4  \n",
            "  inflating: /content/datset/lateral raise/lateral raise_25.mp4  \n",
            "  inflating: /content/datset/lateral raise/lateral raise_26.mp4  \n",
            "  inflating: /content/datset/lateral raise/lateral raise_27.mp4  \n",
            "  inflating: /content/datset/lateral raise/lateral raise_28.mp4  \n",
            "  inflating: /content/datset/lateral raise/lateral raise_29.mp4  \n",
            "  inflating: /content/datset/lateral raise/lateral raise_3.MOV  \n",
            "  inflating: /content/datset/lateral raise/lateral raise_30.mp4  \n",
            "  inflating: /content/datset/lateral raise/lateral raise_31.mp4  \n",
            "  inflating: /content/datset/lateral raise/lateral raise_32.mp4  \n",
            "  inflating: /content/datset/lateral raise/lateral raise_33.mp4  \n",
            "  inflating: /content/datset/lateral raise/lateral raise_34.mp4  \n",
            "  inflating: /content/datset/lateral raise/lateral raise_35.mp4  \n",
            "  inflating: /content/datset/lateral raise/lateral raise_36.mp4  \n",
            "  inflating: /content/datset/lateral raise/lateral raise_37.mp4  \n",
            "  inflating: /content/datset/lateral raise/lateral raise_4.MOV  \n",
            "  inflating: /content/datset/lateral raise/lateral raise_5.MOV  \n",
            "  inflating: /content/datset/lateral raise/lateral raise_6.MOV  \n",
            "  inflating: /content/datset/lateral raise/lateral raise_7.mp4  \n",
            "  inflating: /content/datset/lateral raise/lateral raise_8.mp4  \n",
            "  inflating: /content/datset/lateral raise/lateral raise_9.mp4  \n",
            "  inflating: /content/datset/leg extension/leg extension_1.MOV  \n",
            "  inflating: /content/datset/leg extension/leg extension_10.mp4  \n",
            "  inflating: /content/datset/leg extension/leg extension_11.mp4  \n",
            "  inflating: /content/datset/leg extension/leg extension_12.mp4  \n",
            "  inflating: /content/datset/leg extension/leg extension_13.mp4  \n",
            "  inflating: /content/datset/leg extension/leg extension_14.mp4  \n",
            "  inflating: /content/datset/leg extension/leg extension_15.mp4  \n",
            "  inflating: /content/datset/leg extension/leg extension_16.mp4  \n",
            "  inflating: /content/datset/leg extension/leg extension_17.mp4  \n",
            "  inflating: /content/datset/leg extension/leg extension_18.mp4  \n",
            "  inflating: /content/datset/leg extension/leg extension_19.mp4  \n",
            "  inflating: /content/datset/leg extension/leg extension_2.MOV  \n",
            "  inflating: /content/datset/leg extension/leg extension_20.mp4  \n",
            "  inflating: /content/datset/leg extension/leg extension_21.mp4  \n",
            "  inflating: /content/datset/leg extension/leg extension_22.mp4  \n",
            "  inflating: /content/datset/leg extension/leg extension_23.mp4  \n",
            "  inflating: /content/datset/leg extension/leg extension_24.mp4  \n",
            "  inflating: /content/datset/leg extension/leg extension_25.mp4  \n",
            "  inflating: /content/datset/leg extension/leg extension_3.MOV  \n",
            "  inflating: /content/datset/leg extension/leg extension_4.MOV  \n",
            "  inflating: /content/datset/leg extension/leg extension_5.MOV  \n",
            "  inflating: /content/datset/leg extension/leg extension_6.MOV  \n",
            "  inflating: /content/datset/leg extension/leg extension_7.mp4  \n",
            "  inflating: /content/datset/leg extension/leg extension_8.mp4  \n",
            "  inflating: /content/datset/leg extension/leg extension_9.mp4  \n",
            "  inflating: /content/datset/leg raises/leg raises_1.MOV  \n",
            "  inflating: /content/datset/leg raises/leg raises_10.mp4  \n",
            "  inflating: /content/datset/leg raises/leg raises_11.mp4  \n",
            "  inflating: /content/datset/leg raises/leg raises_12.mp4  \n",
            "  inflating: /content/datset/leg raises/leg raises_13.mp4  \n",
            "  inflating: /content/datset/leg raises/leg raises_14.mp4  \n",
            "  inflating: /content/datset/leg raises/leg raises_15.mp4  \n",
            "  inflating: /content/datset/leg raises/leg raises_16.mp4  \n",
            "  inflating: /content/datset/leg raises/leg raises_17.mp4  \n",
            "  inflating: /content/datset/leg raises/leg raises_18.mp4  \n",
            "  inflating: /content/datset/leg raises/leg raises_19.mp4  \n",
            "  inflating: /content/datset/leg raises/leg raises_2.MOV  \n",
            "  inflating: /content/datset/leg raises/leg raises_20.mp4  \n",
            "  inflating: /content/datset/leg raises/leg raises_21.mp4  \n",
            "  inflating: /content/datset/leg raises/leg raises_3.MOV  \n",
            "  inflating: /content/datset/leg raises/leg raises_4.MOV  \n",
            "  inflating: /content/datset/leg raises/leg raises_5.MOV  \n",
            "  inflating: /content/datset/leg raises/leg raises_6.MOV  \n",
            "  inflating: /content/datset/leg raises/leg raises_7.mp4  \n",
            "  inflating: /content/datset/leg raises/leg raises_8.mp4  \n",
            "  inflating: /content/datset/leg raises/leg raises_9.mp4  \n",
            "  inflating: /content/datset/plank/plank_1.MOV  \n",
            "  inflating: /content/datset/plank/plank_2.mp4  \n",
            "  inflating: /content/datset/plank/plank_3.mp4  \n",
            "  inflating: /content/datset/plank/plank_4.mp4  \n",
            "  inflating: /content/datset/plank/plank_5.mp4  \n",
            "  inflating: /content/datset/plank/plank_6.mp4  \n",
            "  inflating: /content/datset/plank/plank_7.mp4  \n",
            "  inflating: /content/datset/pull Up/pull up_1.mp4  \n",
            "  inflating: /content/datset/pull Up/pull up_10.mp4  \n",
            "  inflating: /content/datset/pull Up/pull up_11.mp4  \n",
            "  inflating: /content/datset/pull Up/pull up_12.mp4  \n",
            "  inflating: /content/datset/pull Up/pull up_13.mp4  \n",
            "  inflating: /content/datset/pull Up/pull up_14.mp4  \n",
            "  inflating: /content/datset/pull Up/pull up_15.mp4  \n",
            "  inflating: /content/datset/pull Up/pull up_16.mp4  \n",
            "  inflating: /content/datset/pull Up/pull up_17.mp4  \n",
            "  inflating: /content/datset/pull Up/pull up_18.mp4  \n",
            "  inflating: /content/datset/pull Up/pull up_19.mp4  \n",
            "  inflating: /content/datset/pull Up/pull up_2.mp4  \n",
            "  inflating: /content/datset/pull Up/pull up_20.mp4  \n",
            "  inflating: /content/datset/pull Up/pull up_21.mp4  \n",
            "  inflating: /content/datset/pull Up/pull up_22.mp4  \n",
            "  inflating: /content/datset/pull Up/pull up_23.mp4  \n",
            "  inflating: /content/datset/pull Up/pull up_24.mp4  \n",
            "  inflating: /content/datset/pull Up/pull up_25.mp4  \n",
            "  inflating: /content/datset/pull Up/pull up_26.mp4  \n",
            "  inflating: /content/datset/pull Up/pull up_3.mp4  \n",
            "  inflating: /content/datset/pull Up/pull up_4.mp4  \n",
            "  inflating: /content/datset/pull Up/pull up_5.mp4  \n",
            "  inflating: /content/datset/pull Up/pull up_6.mp4  \n",
            "  inflating: /content/datset/pull Up/pull up_7.mp4  \n",
            "  inflating: /content/datset/pull Up/pull up_8.mp4  \n",
            "  inflating: /content/datset/pull Up/pull up_9.mp4  \n",
            "  inflating: /content/datset/push-up/push-up_1.mp4  \n",
            "  inflating: /content/datset/push-up/push-up_10.mp4  \n",
            "  inflating: /content/datset/push-up/push-up_11.mp4  \n",
            "  inflating: /content/datset/push-up/push-up_12.mp4  \n",
            "  inflating: /content/datset/push-up/push-up_13.mp4  \n",
            "  inflating: /content/datset/push-up/push-up_14.mp4  \n",
            "  inflating: /content/datset/push-up/push-up_15.mp4  \n",
            "  inflating: /content/datset/push-up/push-up_16.mp4  \n",
            "  inflating: /content/datset/push-up/push-up_17.mp4  \n",
            "  inflating: /content/datset/push-up/push-up_18.mp4  \n",
            "  inflating: /content/datset/push-up/push-up_19.mp4  \n",
            "  inflating: /content/datset/push-up/push-up_2.mp4  \n",
            "  inflating: /content/datset/push-up/push-up_20.mp4  \n",
            "  inflating: /content/datset/push-up/push-up_21.mp4  \n",
            "  inflating: /content/datset/push-up/push-up_22.mp4  \n",
            "  inflating: /content/datset/push-up/push-up_23.mp4  \n",
            "  inflating: /content/datset/push-up/push-up_24.mp4  \n",
            "  inflating: /content/datset/push-up/push-up_25.mp4  \n",
            "  inflating: /content/datset/push-up/push-up_26.mp4  \n",
            "  inflating: /content/datset/push-up/push-up_27.mp4  \n",
            "  inflating: /content/datset/push-up/push-up_28.mp4  \n",
            "  inflating: /content/datset/push-up/push-up_29.mp4  \n",
            "  inflating: /content/datset/push-up/push-up_3.mp4  \n",
            "  inflating: /content/datset/push-up/push-up_30.mp4  \n",
            "  inflating: /content/datset/push-up/push-up_31.mp4  \n",
            "  inflating: /content/datset/push-up/push-up_32.mp4  \n",
            "  inflating: /content/datset/push-up/push-up_33.mp4  \n",
            "  inflating: /content/datset/push-up/push-up_34.mp4  \n",
            "  inflating: /content/datset/push-up/push-up_35.mp4  \n",
            "  inflating: /content/datset/push-up/push-up_36.mp4  \n",
            "  inflating: /content/datset/push-up/push-up_37.mp4  \n",
            "  inflating: /content/datset/push-up/push-up_38.mp4  \n",
            "  inflating: /content/datset/push-up/push-up_39.mp4  \n",
            "  inflating: /content/datset/push-up/push-up_4.mp4  \n",
            "  inflating: /content/datset/push-up/push-up_40.mp4  \n",
            "  inflating: /content/datset/push-up/push-up_41.mp4  \n",
            "  inflating: /content/datset/push-up/push-up_42.mp4  \n",
            "  inflating: /content/datset/push-up/push-up_43.mp4  \n",
            "  inflating: /content/datset/push-up/push-up_44.mp4  \n",
            "  inflating: /content/datset/push-up/push-up_45.mp4  \n",
            "  inflating: /content/datset/push-up/push-up_46.mp4  \n",
            "  inflating: /content/datset/push-up/push-up_47.mp4  \n",
            "  inflating: /content/datset/push-up/push-up_48.mp4  \n",
            "  inflating: /content/datset/push-up/push-up_49.mp4  \n",
            "  inflating: /content/datset/push-up/push-up_5.mp4  \n",
            "  inflating: /content/datset/push-up/push-up_50.mp4  \n",
            "  inflating: /content/datset/push-up/push-up_51.mp4  \n",
            "  inflating: /content/datset/push-up/push-up_52.mp4  \n",
            "  inflating: /content/datset/push-up/push-up_53.mp4  \n",
            "  inflating: /content/datset/push-up/push-up_54.mp4  \n",
            "  inflating: /content/datset/push-up/push-up_55.mp4  \n",
            "  inflating: /content/datset/push-up/push-up_56.mp4  \n",
            "  inflating: /content/datset/push-up/push-up_6.mp4  \n",
            "  inflating: /content/datset/push-up/push-up_7.mp4  \n",
            "  inflating: /content/datset/push-up/push-up_8.mp4  \n",
            "  inflating: /content/datset/push-up/push-up_9.mp4  \n",
            "  inflating: /content/datset/romanian deadlift/romanian deadlift_1.mov  \n",
            "  inflating: /content/datset/romanian deadlift/romanian deadlift_10.mp4  \n",
            "  inflating: /content/datset/romanian deadlift/romanian deadlift_11.mp4  \n",
            "  inflating: /content/datset/romanian deadlift/romanian deadlift_12.mp4  \n",
            "  inflating: /content/datset/romanian deadlift/romanian deadlift_13.mp4  \n",
            "  inflating: /content/datset/romanian deadlift/romanian deadlift_14.mp4  \n",
            "  inflating: /content/datset/romanian deadlift/romanian deadlift_2.MOV  \n",
            "  inflating: /content/datset/romanian deadlift/romanian deadlift_3.mov  \n",
            "  inflating: /content/datset/romanian deadlift/romanian deadlift_4.MOV  \n",
            "  inflating: /content/datset/romanian deadlift/romanian deadlift_5.mp4  \n",
            "  inflating: /content/datset/romanian deadlift/romanian deadlift_6.mp4  \n",
            "  inflating: /content/datset/romanian deadlift/romanian deadlift_7.mp4  \n",
            "  inflating: /content/datset/romanian deadlift/romanian deadlift_8.mp4  \n",
            "  inflating: /content/datset/romanian deadlift/romanian deadlift_9.mp4  \n",
            "  inflating: /content/datset/russian twist/russian twist_1.MOV  \n",
            "  inflating: /content/datset/russian twist/russian twist_10.mp4  \n",
            "  inflating: /content/datset/russian twist/russian twist_11.mp4  \n",
            "  inflating: /content/datset/russian twist/russian twist_12.mp4  \n",
            "  inflating: /content/datset/russian twist/russian twist_13.mp4  \n",
            "  inflating: /content/datset/russian twist/russian twist_2.mp4  \n",
            "  inflating: /content/datset/russian twist/russian twist_3.mp4  \n",
            "  inflating: /content/datset/russian twist/russian twist_4.mp4  \n",
            "  inflating: /content/datset/russian twist/russian twist_5.mp4  \n",
            "  inflating: /content/datset/russian twist/russian twist_6.mp4  \n",
            "  inflating: /content/datset/russian twist/russian twist_7.mp4  \n",
            "  inflating: /content/datset/russian twist/russian twist_8.mp4  \n",
            "  inflating: /content/datset/russian twist/russian twist_9.mp4  \n",
            "  inflating: /content/datset/shoulder press/shoulder press_1.MOV  \n",
            "  inflating: /content/datset/shoulder press/shoulder press_10.mp4  \n",
            "  inflating: /content/datset/shoulder press/shoulder press_11.mp4  \n",
            "  inflating: /content/datset/shoulder press/shoulder press_12.mp4  \n",
            "  inflating: /content/datset/shoulder press/shoulder press_13.mp4  \n",
            "  inflating: /content/datset/shoulder press/shoulder press_14.mp4  \n",
            "  inflating: /content/datset/shoulder press/shoulder press_15.mp4  \n",
            "  inflating: /content/datset/shoulder press/shoulder press_16.mp4  \n",
            "  inflating: /content/datset/shoulder press/shoulder press_17.mp4  \n",
            "  inflating: /content/datset/shoulder press/shoulder press_2.MOV  \n",
            "  inflating: /content/datset/shoulder press/shoulder press_3.MOV  \n",
            "  inflating: /content/datset/shoulder press/shoulder press_4.MOV  \n",
            "  inflating: /content/datset/shoulder press/shoulder press_5.mp4  \n",
            "  inflating: /content/datset/shoulder press/shoulder press_6.mp4  \n",
            "  inflating: /content/datset/shoulder press/shoulder press_7.mp4  \n",
            "  inflating: /content/datset/shoulder press/shoulder press_8.mp4  \n",
            "  inflating: /content/datset/shoulder press/shoulder press_9.mp4  \n",
            "  inflating: /content/datset/squat/squat_1.MOV  \n",
            "  inflating: /content/datset/squat/squat_10.mp4  \n",
            "  inflating: /content/datset/squat/squat_11.mp4  \n",
            "  inflating: /content/datset/squat/squat_12.mp4  \n",
            "  inflating: /content/datset/squat/squat_13.mp4  \n",
            "  inflating: /content/datset/squat/squat_14.mp4  \n",
            "  inflating: /content/datset/squat/squat_15.mp4  \n",
            "  inflating: /content/datset/squat/squat_16.mp4  \n",
            "  inflating: /content/datset/squat/squat_17.mp4  \n",
            "  inflating: /content/datset/squat/squat_18.mp4  \n",
            "  inflating: /content/datset/squat/squat_19.mp4  \n",
            "  inflating: /content/datset/squat/squat_2.MOV  \n",
            "  inflating: /content/datset/squat/squat_20.mp4  \n",
            "  inflating: /content/datset/squat/squat_21.mp4  \n",
            "  inflating: /content/datset/squat/squat_22.mp4  \n",
            "  inflating: /content/datset/squat/squat_23.mp4  \n",
            "  inflating: /content/datset/squat/squat_24.mp4  \n",
            "  inflating: /content/datset/squat/squat_25.mp4  \n",
            "  inflating: /content/datset/squat/squat_26.mp4  \n",
            "  inflating: /content/datset/squat/squat_27.mp4  \n",
            "  inflating: /content/datset/squat/squat_28.mp4  \n",
            "  inflating: /content/datset/squat/squat_29.mp4  \n",
            "  inflating: /content/datset/squat/squat_3.MOV  \n",
            "  inflating: /content/datset/squat/squat_4.MOV  \n",
            "  inflating: /content/datset/squat/squat_5.MOV  \n",
            "  inflating: /content/datset/squat/squat_6.MOV  \n",
            "  inflating: /content/datset/squat/squat_7.mp4  \n",
            "  inflating: /content/datset/squat/squat_8.mp4  \n",
            "  inflating: /content/datset/squat/squat_9.mp4  \n",
            "  inflating: /content/datset/t bar row/t bar row_1.MOV  \n",
            "  inflating: /content/datset/t bar row/t bar row_10.mp4  \n",
            "  inflating: /content/datset/t bar row/t bar row_11.mp4  \n",
            "  inflating: /content/datset/t bar row/t bar row_12.mp4  \n",
            "  inflating: /content/datset/t bar row/t bar row_13.mp4  \n",
            "  inflating: /content/datset/t bar row/t bar row_14.mp4  \n",
            "  inflating: /content/datset/t bar row/t bar row_15.mp4  \n",
            "  inflating: /content/datset/t bar row/t bar row_16.mp4  \n",
            "  inflating: /content/datset/t bar row/t bar row_17.mp4  \n",
            "  inflating: /content/datset/t bar row/t bar row_18.mp4  \n",
            "  inflating: /content/datset/t bar row/t bar row_19.mp4  \n",
            "  inflating: /content/datset/t bar row/t bar row_2.MOV  \n",
            "  inflating: /content/datset/t bar row/t bar row_20.mp4  \n",
            "  inflating: /content/datset/t bar row/t bar row_21.mp4  \n",
            "  inflating: /content/datset/t bar row/t bar row_3.MOV  \n",
            "  inflating: /content/datset/t bar row/t bar row_4.MOV  \n",
            "  inflating: /content/datset/t bar row/t bar row_5.MOV  \n",
            "  inflating: /content/datset/t bar row/t bar row_6.MOV  \n",
            "  inflating: /content/datset/t bar row/t bar row_7.MOV  \n",
            "  inflating: /content/datset/t bar row/t bar row_8.mp4  \n",
            "  inflating: /content/datset/t bar row/t bar row_9.mp4  \n",
            "  inflating: /content/datset/tricep Pushdown/tricep pushdown_1.mp4  \n",
            "  inflating: /content/datset/tricep Pushdown/tricep pushdown_10.mp4  \n",
            "  inflating: /content/datset/tricep Pushdown/tricep pushdown_11.mp4  \n",
            "  inflating: /content/datset/tricep Pushdown/tricep pushdown_12.mp4  \n",
            "  inflating: /content/datset/tricep Pushdown/tricep pushdown_13.mp4  \n",
            "  inflating: /content/datset/tricep Pushdown/tricep pushdown_14.mp4  \n",
            "  inflating: /content/datset/tricep Pushdown/tricep pushdown_15.mp4  \n",
            "  inflating: /content/datset/tricep Pushdown/tricep pushdown_16.mp4  \n",
            "  inflating: /content/datset/tricep Pushdown/tricep pushdown_17.mp4  \n",
            "  inflating: /content/datset/tricep Pushdown/tricep pushdown_18.mp4  \n",
            "  inflating: /content/datset/tricep Pushdown/tricep pushdown_19.mp4  \n",
            "  inflating: /content/datset/tricep Pushdown/tricep pushdown_2.mp4  \n",
            "  inflating: /content/datset/tricep Pushdown/tricep pushdown_20.mp4  \n",
            "  inflating: /content/datset/tricep Pushdown/tricep pushdown_21.mp4  \n",
            "  inflating: /content/datset/tricep Pushdown/tricep pushdown_22.mp4  \n",
            "  inflating: /content/datset/tricep Pushdown/tricep pushdown_23.mp4  \n",
            "  inflating: /content/datset/tricep Pushdown/tricep pushdown_24.mp4  \n",
            "  inflating: /content/datset/tricep Pushdown/tricep pushdown_25.mp4  \n",
            "  inflating: /content/datset/tricep Pushdown/tricep pushdown_26.mp4  \n",
            "  inflating: /content/datset/tricep Pushdown/tricep pushdown_27.mp4  \n",
            "  inflating: /content/datset/tricep Pushdown/tricep pushdown_28.mp4  \n",
            "  inflating: /content/datset/tricep Pushdown/tricep pushdown_29.mp4  \n",
            "  inflating: /content/datset/tricep Pushdown/tricep pushdown_3.mp4  \n",
            "  inflating: /content/datset/tricep Pushdown/tricep pushdown_30.mp4  \n",
            "  inflating: /content/datset/tricep Pushdown/tricep pushdown_31.mp4  \n",
            "  inflating: /content/datset/tricep Pushdown/tricep pushdown_32.mp4  \n",
            "  inflating: /content/datset/tricep Pushdown/tricep pushdown_33.mp4  \n",
            "  inflating: /content/datset/tricep Pushdown/tricep pushdown_34.mp4  \n",
            "  inflating: /content/datset/tricep Pushdown/tricep pushdown_35.mp4  \n",
            "  inflating: /content/datset/tricep Pushdown/tricep pushdown_36.mp4  \n",
            "  inflating: /content/datset/tricep Pushdown/tricep pushdown_37.mp4  \n",
            "  inflating: /content/datset/tricep Pushdown/tricep pushdown_38.mp4  \n",
            "  inflating: /content/datset/tricep Pushdown/tricep pushdown_39.mp4  \n",
            "  inflating: /content/datset/tricep Pushdown/tricep pushdown_4.mp4  \n",
            "  inflating: /content/datset/tricep Pushdown/tricep pushdown_40.mp4  \n",
            "  inflating: /content/datset/tricep Pushdown/tricep pushdown_41.mp4  \n",
            "  inflating: /content/datset/tricep Pushdown/tricep pushdown_42.mp4  \n",
            "  inflating: /content/datset/tricep Pushdown/tricep pushdown_43.mp4  \n",
            "  inflating: /content/datset/tricep Pushdown/tricep pushdown_44.mp4  \n",
            "  inflating: /content/datset/tricep Pushdown/tricep pushdown_45.mp4  \n",
            "  inflating: /content/datset/tricep Pushdown/tricep pushdown_46.mp4  \n",
            "  inflating: /content/datset/tricep Pushdown/tricep pushdown_47.mp4  \n",
            "  inflating: /content/datset/tricep Pushdown/tricep pushdown_48.mp4  \n",
            "  inflating: /content/datset/tricep Pushdown/tricep pushdown_49.mp4  \n",
            "  inflating: /content/datset/tricep Pushdown/tricep pushdown_5.mp4  \n",
            "  inflating: /content/datset/tricep Pushdown/tricep pushdown_50.mp4  \n",
            "  inflating: /content/datset/tricep Pushdown/tricep pushdown_6.mp4  \n",
            "  inflating: /content/datset/tricep Pushdown/tricep pushdown_7.mp4  \n",
            "  inflating: /content/datset/tricep Pushdown/tricep pushdown_8.mp4  \n",
            "  inflating: /content/datset/tricep Pushdown/tricep pushdown_9.mp4  \n",
            "  inflating: /content/datset/tricep dips/tricep dips_1.MOV  \n",
            "  inflating: /content/datset/tricep dips/tricep dips_10.mp4  \n",
            "  inflating: /content/datset/tricep dips/tricep dips_11.mp4  \n",
            "  inflating: /content/datset/tricep dips/tricep dips_12.mp4  \n",
            "  inflating: /content/datset/tricep dips/tricep dips_13.mp4  \n",
            "  inflating: /content/datset/tricep dips/tricep dips_14.mp4  \n",
            "  inflating: /content/datset/tricep dips/tricep dips_15.mp4  \n",
            "  inflating: /content/datset/tricep dips/tricep dips_16.mp4  \n",
            "  inflating: /content/datset/tricep dips/tricep dips_17.mp4  \n",
            "  inflating: /content/datset/tricep dips/tricep dips_18.mp4  \n",
            "  inflating: /content/datset/tricep dips/tricep dips_19.mp4  \n",
            "  inflating: /content/datset/tricep dips/tricep dips_2.MOV  \n",
            "  inflating: /content/datset/tricep dips/tricep dips_20.mp4  \n",
            "  inflating: /content/datset/tricep dips/tricep dips_3.MOV  \n",
            "  inflating: /content/datset/tricep dips/tricep dips_4.MOV  \n",
            "  inflating: /content/datset/tricep dips/tricep dips_5.mp4  \n",
            "  inflating: /content/datset/tricep dips/tricep dips_6.mp4  \n",
            "  inflating: /content/datset/tricep dips/tricep dips_7.mp4  \n",
            "  inflating: /content/datset/tricep dips/tricep dips_8.mp4  \n",
            "  inflating: /content/datset/tricep dips/tricep dips_9.mp4  \n"
          ]
        }
      ]
    },
    {
      "cell_type": "code",
      "execution_count": 9,
      "metadata": {
        "id": "kwRWJqei6wIX"
      },
      "outputs": [],
      "source": [
        "import cv2\n",
        "import numpy as np\n",
        "\n",
        "def jitter_video(video_path, file_name, class_name, brightness_range=(0.5, 1.5), contrast_range=(0.5, 1.5), \n",
        "                 saturation_range=(0.3, 1.0), hue_range=(-10, 10), resolution=(640, 360), output_fps=30):\n",
        "    # Load the video\n",
        "    cap = cv2.VideoCapture(video_path)\n",
        "\n",
        "    # Define the codec and video writer\n",
        "    fourcc = cv2.VideoWriter_fourcc(*'mp4v')\n",
        "    filename = os.path.basename(file_name)\n",
        "    filename = os.path.splitext(filename)[0]\n",
        "    output_file = os.path.join('/content/datset',class_name, filename + '_jittered.mp4')\n",
        "    writer = cv2.VideoWriter(output_file, fourcc, output_fps, (resolution[0], resolution[1]))\n",
        "\n",
        "    while cap.isOpened():\n",
        "        ret, frame = cap.read()\n",
        "\n",
        "        if ret:\n",
        "            # Resize the frame to the specified resolution\n",
        "            frame = cv2.resize(frame, resolution)\n",
        "\n",
        "            # Jittering\n",
        "            brightness = np.random.uniform(brightness_range[0], brightness_range[1])\n",
        "            contrast = np.random.uniform(contrast_range[0], contrast_range[1])\n",
        "            saturation = np.random.uniform(saturation_range[0], saturation_range[1])\n",
        "            hue = np.random.uniform(hue_range[0], hue_range[1])\n",
        "            frame_hsv = cv2.cvtColor(frame, cv2.COLOR_BGR2HSV)\n",
        "            frame_hsv[:, :, 1] = cv2.multiply(frame_hsv[:, :, 1], saturation)\n",
        "            frame_hsv[:, :, 0] = cv2.add(frame_hsv[:, :, 0], hue)\n",
        "            frame_hsv[:, :, 2] = cv2.multiply(frame_hsv[:, :, 2], brightness)\n",
        "            frame_jittered = cv2.cvtColor(frame_hsv, cv2.COLOR_HSV2BGR)\n",
        "            frame_jittered = cv2.merge((cv2.multiply(frame_jittered[:,:,0], 0.9), \n",
        "                                        cv2.multiply(frame_jittered[:,:,1], contrast),\n",
        "                                        cv2.multiply(frame_jittered[:,:,2], contrast)))\n",
        "\n",
        "            # Write the frame to the output video\n",
        "            writer.write(frame_jittered)\n",
        "\n",
        "        else:\n",
        "            break\n",
        "\n",
        "    cap.release()\n",
        "    writer.release()\n"
      ]
    },
    {
      "cell_type": "code",
      "source": [
        "import os\n",
        "# Specify the directory containing the dataset. \n",
        "DATASET_DIR = \"datset\"\n",
        "\n",
        "# Specify the list containing the names of the classes used for training. Feel free to choose any set of classes.\n",
        "CLASSES_LIST = os.listdir('/content/datset')"
      ],
      "metadata": {
        "id": "qXMwxenS9GSX"
      },
      "execution_count": 10,
      "outputs": []
    },
    {
      "cell_type": "code",
      "source": [
        "for class_index, class_name in enumerate(CLASSES_LIST):\n",
        "  files_list = os.listdir(os.path.join(DATASET_DIR, class_name))\n",
        "  # Iterate through all the files present in the files list.\n",
        "  for file_name in files_list:\n",
        "    # Get the complete video path.\n",
        "    video_file_path = os.path.join(DATASET_DIR, class_name, file_name)\n",
        "    jitter_video(video_file_path, file_name, class_name)"
      ],
      "metadata": {
        "id": "kO3BVqevlkrh"
      },
      "execution_count": 11,
      "outputs": []
    },
    {
      "cell_type": "code",
      "source": [
        "!pip install mediapipe"
      ],
      "metadata": {
        "colab": {
          "base_uri": "https://localhost:8080/"
        },
        "id": "YEIKD5Q7Zm5w",
        "outputId": "6cce15ac-eea7-4ee4-9b9a-8280429b912a"
      },
      "execution_count": 14,
      "outputs": [
        {
          "output_type": "stream",
          "name": "stdout",
          "text": [
            "Looking in indexes: https://pypi.org/simple, https://us-python.pkg.dev/colab-wheels/public/simple/\n",
            "Collecting mediapipe\n",
            "  Downloading mediapipe-0.9.3.0-cp310-cp310-manylinux_2_17_x86_64.manylinux2014_x86_64.whl (33.9 MB)\n",
            "\u001b[2K     \u001b[90m━━━━━━━━━━━━━━━━━━━━━━━━━━━━━━━━━━━━━━━━\u001b[0m \u001b[32m33.9/33.9 MB\u001b[0m \u001b[31m35.7 MB/s\u001b[0m eta \u001b[36m0:00:00\u001b[0m\n",
            "\u001b[?25hRequirement already satisfied: opencv-contrib-python in /usr/local/lib/python3.10/dist-packages (from mediapipe) (4.7.0.72)\n",
            "Requirement already satisfied: flatbuffers>=2.0 in /usr/local/lib/python3.10/dist-packages (from mediapipe) (23.3.3)\n",
            "Requirement already satisfied: numpy in /usr/local/lib/python3.10/dist-packages (from mediapipe) (1.22.4)\n",
            "Requirement already satisfied: matplotlib in /usr/local/lib/python3.10/dist-packages (from mediapipe) (3.7.1)\n",
            "Collecting sounddevice>=0.4.4\n",
            "  Downloading sounddevice-0.4.6-py3-none-any.whl (31 kB)\n",
            "Requirement already satisfied: attrs>=19.1.0 in /usr/local/lib/python3.10/dist-packages (from mediapipe) (23.1.0)\n",
            "Requirement already satisfied: protobuf<4,>=3.11 in /usr/local/lib/python3.10/dist-packages (from mediapipe) (3.20.3)\n",
            "Requirement already satisfied: absl-py in /usr/local/lib/python3.10/dist-packages (from mediapipe) (1.4.0)\n",
            "Requirement already satisfied: CFFI>=1.0 in /usr/local/lib/python3.10/dist-packages (from sounddevice>=0.4.4->mediapipe) (1.15.1)\n",
            "Requirement already satisfied: kiwisolver>=1.0.1 in /usr/local/lib/python3.10/dist-packages (from matplotlib->mediapipe) (1.4.4)\n",
            "Requirement already satisfied: cycler>=0.10 in /usr/local/lib/python3.10/dist-packages (from matplotlib->mediapipe) (0.11.0)\n",
            "Requirement already satisfied: python-dateutil>=2.7 in /usr/local/lib/python3.10/dist-packages (from matplotlib->mediapipe) (2.8.2)\n",
            "Requirement already satisfied: pyparsing>=2.3.1 in /usr/local/lib/python3.10/dist-packages (from matplotlib->mediapipe) (3.0.9)\n",
            "Requirement already satisfied: packaging>=20.0 in /usr/local/lib/python3.10/dist-packages (from matplotlib->mediapipe) (23.1)\n",
            "Requirement already satisfied: pillow>=6.2.0 in /usr/local/lib/python3.10/dist-packages (from matplotlib->mediapipe) (8.4.0)\n",
            "Requirement already satisfied: contourpy>=1.0.1 in /usr/local/lib/python3.10/dist-packages (from matplotlib->mediapipe) (1.0.7)\n",
            "Requirement already satisfied: fonttools>=4.22.0 in /usr/local/lib/python3.10/dist-packages (from matplotlib->mediapipe) (4.39.3)\n",
            "Requirement already satisfied: pycparser in /usr/local/lib/python3.10/dist-packages (from CFFI>=1.0->sounddevice>=0.4.4->mediapipe) (2.21)\n",
            "Requirement already satisfied: six>=1.5 in /usr/local/lib/python3.10/dist-packages (from python-dateutil>=2.7->matplotlib->mediapipe) (1.16.0)\n",
            "Installing collected packages: sounddevice, mediapipe\n",
            "Successfully installed mediapipe-0.9.3.0 sounddevice-0.4.6\n"
          ]
        }
      ]
    },
    {
      "cell_type": "code",
      "source": [
        "import tensorflow as tf\n",
        "import numpy as np\n",
        "import cv2\n",
        "import os\n",
        "import mediapipe as mp\n",
        "from google.colab.patches import cv2_imshow\n",
        "from tensorflow import keras\n",
        "from tensorflow.keras import layers\n",
        "from sklearn.model_selection import train_test_split\n",
        "from sklearn.metrics import confusion_matrix\n",
        "from sklearn.metrics import classification_report\n",
        "from keras.callbacks import EarlyStopping"
      ],
      "metadata": {
        "id": "I-bLsvGgZm7t"
      },
      "execution_count": 15,
      "outputs": []
    },
    {
      "cell_type": "code",
      "source": [
        "mp_holistic = mp.solutions.holistic"
      ],
      "metadata": {
        "id": "PdDalu7RZm9Z"
      },
      "execution_count": 16,
      "outputs": []
    },
    {
      "cell_type": "code",
      "source": [
        "# Specify the number of frames of a video that will be fed to the model as one sequence.\n",
        "SEQUENCE_LENGTH = 10"
      ],
      "metadata": {
        "id": "oiFdCTRXZm_E"
      },
      "execution_count": 17,
      "outputs": []
    },
    {
      "cell_type": "code",
      "source": [
        "def landmarks_extraction(path):\n",
        "  # Declare a list to store video frames.\n",
        "  frames_list = []\n",
        "  # Read the Video File using the VideoCapture object.\n",
        "  video_reader = cv2.VideoCapture(path)\n",
        "\n",
        "  # Get the total number of frames in the video.\n",
        "  video_frames_count = int(video_reader.get(cv2.CAP_PROP_FRAME_COUNT))\n",
        "\n",
        "  # Calculate the the interval after which frames will be added to the list.\n",
        "  skip_frames_window = max(int(video_frames_count/SEQUENCE_LENGTH), 1)\n",
        "\n",
        "  # Iterate through the Video Frames.\n",
        "  \n",
        "  for frame_counter in range(SEQUENCE_LENGTH):\n",
        "\n",
        "      # Set the current frame position of the video.\n",
        "      video_reader.set(cv2.CAP_PROP_POS_FRAMES, frame_counter * skip_frames_window)\n",
        "\n",
        "      # Reading the frame from the video. \n",
        "      success, frame = video_reader.read() \n",
        "\n",
        "      # Check if Video frame is not successfully read then break the loop\n",
        "      if not success:\n",
        "          break\n",
        "      # Append the normalized frame into the frames list\n",
        "      frames_list.append(frame)\n",
        "\n",
        "  # Release the VideoCapture object. \n",
        "  video_reader.release()\n",
        "  marks = []\n",
        "  with mp_holistic.Holistic() as holistic:\n",
        "    for i in frames_list:\n",
        "      # Convert frame to RGB\n",
        "      frame = cv2.cvtColor(i, cv2.COLOR_BGR2RGB)\n",
        "\n",
        "      # Detect poses in frame\n",
        "      results = holistic.process(frame)\n",
        "      pose_landmarks = results.pose_landmarks\n",
        "      # print(pose_landmarks)\n",
        "      if pose_landmarks is not None:\n",
        "        landmarks = [(lmk.x, lmk.y, lmk.z) for lmk in pose_landmarks.landmark]\n",
        "        marks.append(np.array(landmarks))\n",
        "  # Return the frames list.\n",
        "  marks = np.array(marks)\n",
        "  return marks"
      ],
      "metadata": {
        "id": "gLbKH-nXZnCw"
      },
      "execution_count": 18,
      "outputs": []
    },
    {
      "cell_type": "code",
      "source": [
        "# Specify the directory containing the dataset. \n",
        "DATASET_DIR = \"datset\"\n",
        "\n",
        "# Specify the list containing the names of the classes used for training. Feel free to choose any set of classes.\n",
        "CLASSES_LIST = os.listdir('/content/datset')\n",
        "NO_OF_CATEGORIES = 5\n",
        "CLASSES_LIST = CLASSES_LIST[:NO_OF_CATEGORIES]"
      ],
      "metadata": {
        "id": "5D_jzdS3ZnFn"
      },
      "execution_count": 19,
      "outputs": []
    },
    {
      "cell_type": "code",
      "source": [
        "def create_dataset():\n",
        "  marks = []\n",
        "  labels = []\n",
        "  for class_index, class_name in enumerate(CLASSES_LIST):\n",
        "    print(class_index, class_name)\n",
        "    # Display the name of the class whose data is being extracted.\n",
        "    print(f'Extracting Data of Class: {class_name}')\n",
        "\n",
        "    # Get the list of video files present in the specific class name directory.\n",
        "    files_list = os.listdir(os.path.join(DATASET_DIR, class_name))\n",
        "\n",
        "    # Iterate through all the files present in the files list.\n",
        "    for file_name in files_list:\n",
        "\n",
        "      # Get the complete video path.\n",
        "      video_file_path = os.path.join(DATASET_DIR, class_name, file_name)\n",
        "\n",
        "      # Extract the landmarks of the video file.\n",
        "      landmarks = landmarks_extraction(video_file_path)\n",
        "      marks.append(np.array(landmarks))\n",
        "      labels.append(class_index)\n",
        "  return marks, labels"
      ],
      "metadata": {
        "id": "xbS3W-HbZnH7"
      },
      "execution_count": 20,
      "outputs": []
    },
    {
      "cell_type": "code",
      "source": [
        "marks, labels = create_dataset()"
      ],
      "metadata": {
        "colab": {
          "base_uri": "https://localhost:8080/"
        },
        "id": "rUw-BIj8ZnK5",
        "outputId": "fefd9f5d-d55a-4c7b-acfa-7c5a78ab034c"
      },
      "execution_count": 21,
      "outputs": [
        {
          "output_type": "stream",
          "name": "stdout",
          "text": [
            "0 deadlift\n",
            "Extracting Data of Class: deadlift\n",
            "1 bench press\n",
            "Extracting Data of Class: bench press\n",
            "2 russian twist\n",
            "Extracting Data of Class: russian twist\n",
            "3 hip thrust\n",
            "Extracting Data of Class: hip thrust\n",
            "4 shoulder press\n",
            "Extracting Data of Class: shoulder press\n"
          ]
        }
      ]
    },
    {
      "cell_type": "code",
      "source": [
        "labels = np.array(labels)\n",
        "marks = np.array(marks)\n",
        "x = marks\n",
        "y = labels"
      ],
      "metadata": {
        "id": "oOv_6pLPaVWG"
      },
      "execution_count": 61,
      "outputs": []
    },
    {
      "cell_type": "code",
      "source": [
        "print(x.shape)"
      ],
      "metadata": {
        "colab": {
          "base_uri": "https://localhost:8080/"
        },
        "id": "DFU_0Yw8aVYf",
        "outputId": "c78a99c0-e9a0-4e1c-9cd2-b6238f9f7844"
      },
      "execution_count": 62,
      "outputs": [
        {
          "output_type": "stream",
          "name": "stdout",
          "text": [
            "(282,)\n"
          ]
        }
      ]
    },
    {
      "cell_type": "code",
      "source": [
        "for i in range(0, len(x)):\n",
        "  if x[i].size!=0:\n",
        "    x[i] = x[i].reshape(x[i].shape[0], -1)"
      ],
      "metadata": {
        "id": "bCDL7r3waVae"
      },
      "execution_count": 63,
      "outputs": []
    },
    {
      "cell_type": "code",
      "source": [
        "print(x.shape)"
      ],
      "metadata": {
        "colab": {
          "base_uri": "https://localhost:8080/"
        },
        "id": "OOp3zXmsaVcj",
        "outputId": "6110b547-96d5-4cb0-e51b-000c2480ffbc"
      },
      "execution_count": 64,
      "outputs": [
        {
          "output_type": "stream",
          "name": "stdout",
          "text": [
            "(282,)\n"
          ]
        }
      ]
    },
    {
      "cell_type": "code",
      "source": [
        "for i in reversed(range(len(x))):\n",
        "  if x[i].size==0:\n",
        "    x = np.delete(x, i)\n",
        "    y = np.delete(y, i)"
      ],
      "metadata": {
        "id": "wPM1ISgUaVeQ"
      },
      "execution_count": 65,
      "outputs": []
    },
    {
      "cell_type": "code",
      "source": [
        "for i in reversed(range(len(x))):\n",
        "  if x[i].shape[0]<SEQUENCE_LENGTH:\n",
        "    x = np.delete(x, i)\n",
        "    y = np.delete(y, i)\n",
        "  elif x[i].shape[0]>=SEQUENCE_LENGTH:\n",
        "    x[i] = x[i][:SEQUENCE_LENGTH, ]"
      ],
      "metadata": {
        "id": "DkUo3oK8aVf4"
      },
      "execution_count": 66,
      "outputs": []
    },
    {
      "cell_type": "code",
      "source": [
        "print(x.shape)\n",
        "print(y.shape)"
      ],
      "metadata": {
        "colab": {
          "base_uri": "https://localhost:8080/"
        },
        "id": "THhoWeWOaViZ",
        "outputId": "44ad1b49-f1b1-4c2e-d43e-4ffa40bcc844"
      },
      "execution_count": 67,
      "outputs": [
        {
          "output_type": "stream",
          "name": "stdout",
          "text": [
            "(170,)\n",
            "(170,)\n"
          ]
        }
      ]
    },
    {
      "cell_type": "code",
      "source": [
        "z = y\n",
        "print(y.shape)"
      ],
      "metadata": {
        "colab": {
          "base_uri": "https://localhost:8080/"
        },
        "id": "-fLpU3RHaVk3",
        "outputId": "17ec4c3d-3c8c-489c-a927-0e759d2b28b9"
      },
      "execution_count": 69,
      "outputs": [
        {
          "output_type": "stream",
          "name": "stdout",
          "text": [
            "(170,)\n"
          ]
        }
      ]
    },
    {
      "cell_type": "code",
      "source": [
        "z = tf.keras.utils.to_categorical(z).astype(int)\n",
        "print(z.shape)"
      ],
      "metadata": {
        "colab": {
          "base_uri": "https://localhost:8080/"
        },
        "id": "LiYNKNgsaVnj",
        "outputId": "b88a742f-777a-41dc-afb9-5aff10db2826"
      },
      "execution_count": 70,
      "outputs": [
        {
          "output_type": "stream",
          "name": "stdout",
          "text": [
            "(170, 5)\n"
          ]
        }
      ]
    },
    {
      "cell_type": "code",
      "source": [
        "print(z)"
      ],
      "metadata": {
        "colab": {
          "base_uri": "https://localhost:8080/"
        },
        "id": "lJUi8J0AaVpM",
        "outputId": "6010b97a-d858-4729-8644-e63118672b8a"
      },
      "execution_count": 71,
      "outputs": [
        {
          "output_type": "stream",
          "name": "stdout",
          "text": [
            "[[1 0 0 0 0]\n",
            " [1 0 0 0 0]\n",
            " [1 0 0 0 0]\n",
            " [1 0 0 0 0]\n",
            " [1 0 0 0 0]\n",
            " [1 0 0 0 0]\n",
            " [1 0 0 0 0]\n",
            " [1 0 0 0 0]\n",
            " [1 0 0 0 0]\n",
            " [1 0 0 0 0]\n",
            " [1 0 0 0 0]\n",
            " [1 0 0 0 0]\n",
            " [1 0 0 0 0]\n",
            " [1 0 0 0 0]\n",
            " [1 0 0 0 0]\n",
            " [1 0 0 0 0]\n",
            " [1 0 0 0 0]\n",
            " [1 0 0 0 0]\n",
            " [1 0 0 0 0]\n",
            " [1 0 0 0 0]\n",
            " [1 0 0 0 0]\n",
            " [1 0 0 0 0]\n",
            " [1 0 0 0 0]\n",
            " [1 0 0 0 0]\n",
            " [1 0 0 0 0]\n",
            " [1 0 0 0 0]\n",
            " [1 0 0 0 0]\n",
            " [1 0 0 0 0]\n",
            " [1 0 0 0 0]\n",
            " [1 0 0 0 0]\n",
            " [1 0 0 0 0]\n",
            " [1 0 0 0 0]\n",
            " [1 0 0 0 0]\n",
            " [1 0 0 0 0]\n",
            " [1 0 0 0 0]\n",
            " [1 0 0 0 0]\n",
            " [1 0 0 0 0]\n",
            " [1 0 0 0 0]\n",
            " [1 0 0 0 0]\n",
            " [1 0 0 0 0]\n",
            " [1 0 0 0 0]\n",
            " [1 0 0 0 0]\n",
            " [1 0 0 0 0]\n",
            " [1 0 0 0 0]\n",
            " [1 0 0 0 0]\n",
            " [0 1 0 0 0]\n",
            " [0 1 0 0 0]\n",
            " [0 1 0 0 0]\n",
            " [0 1 0 0 0]\n",
            " [0 1 0 0 0]\n",
            " [0 1 0 0 0]\n",
            " [0 1 0 0 0]\n",
            " [0 1 0 0 0]\n",
            " [0 1 0 0 0]\n",
            " [0 1 0 0 0]\n",
            " [0 1 0 0 0]\n",
            " [0 1 0 0 0]\n",
            " [0 1 0 0 0]\n",
            " [0 1 0 0 0]\n",
            " [0 1 0 0 0]\n",
            " [0 1 0 0 0]\n",
            " [0 1 0 0 0]\n",
            " [0 1 0 0 0]\n",
            " [0 1 0 0 0]\n",
            " [0 1 0 0 0]\n",
            " [0 1 0 0 0]\n",
            " [0 1 0 0 0]\n",
            " [0 1 0 0 0]\n",
            " [0 1 0 0 0]\n",
            " [0 1 0 0 0]\n",
            " [0 1 0 0 0]\n",
            " [0 1 0 0 0]\n",
            " [0 1 0 0 0]\n",
            " [0 1 0 0 0]\n",
            " [0 1 0 0 0]\n",
            " [0 1 0 0 0]\n",
            " [0 1 0 0 0]\n",
            " [0 1 0 0 0]\n",
            " [0 1 0 0 0]\n",
            " [0 1 0 0 0]\n",
            " [0 1 0 0 0]\n",
            " [0 1 0 0 0]\n",
            " [0 1 0 0 0]\n",
            " [0 1 0 0 0]\n",
            " [0 1 0 0 0]\n",
            " [0 1 0 0 0]\n",
            " [0 1 0 0 0]\n",
            " [0 1 0 0 0]\n",
            " [0 1 0 0 0]\n",
            " [0 1 0 0 0]\n",
            " [0 1 0 0 0]\n",
            " [0 1 0 0 0]\n",
            " [0 1 0 0 0]\n",
            " [0 1 0 0 0]\n",
            " [0 1 0 0 0]\n",
            " [0 1 0 0 0]\n",
            " [0 0 1 0 0]\n",
            " [0 0 1 0 0]\n",
            " [0 0 1 0 0]\n",
            " [0 0 1 0 0]\n",
            " [0 0 1 0 0]\n",
            " [0 0 1 0 0]\n",
            " [0 0 1 0 0]\n",
            " [0 0 1 0 0]\n",
            " [0 0 1 0 0]\n",
            " [0 0 1 0 0]\n",
            " [0 0 1 0 0]\n",
            " [0 0 1 0 0]\n",
            " [0 0 1 0 0]\n",
            " [0 0 1 0 0]\n",
            " [0 0 1 0 0]\n",
            " [0 0 1 0 0]\n",
            " [0 0 1 0 0]\n",
            " [0 0 1 0 0]\n",
            " [0 0 1 0 0]\n",
            " [0 0 1 0 0]\n",
            " [0 0 1 0 0]\n",
            " [0 0 1 0 0]\n",
            " [0 0 0 1 0]\n",
            " [0 0 0 1 0]\n",
            " [0 0 0 1 0]\n",
            " [0 0 0 1 0]\n",
            " [0 0 0 1 0]\n",
            " [0 0 0 1 0]\n",
            " [0 0 0 1 0]\n",
            " [0 0 0 1 0]\n",
            " [0 0 0 1 0]\n",
            " [0 0 0 1 0]\n",
            " [0 0 0 1 0]\n",
            " [0 0 0 1 0]\n",
            " [0 0 0 1 0]\n",
            " [0 0 0 1 0]\n",
            " [0 0 0 1 0]\n",
            " [0 0 0 1 0]\n",
            " [0 0 0 1 0]\n",
            " [0 0 0 1 0]\n",
            " [0 0 0 1 0]\n",
            " [0 0 0 1 0]\n",
            " [0 0 0 0 1]\n",
            " [0 0 0 0 1]\n",
            " [0 0 0 0 1]\n",
            " [0 0 0 0 1]\n",
            " [0 0 0 0 1]\n",
            " [0 0 0 0 1]\n",
            " [0 0 0 0 1]\n",
            " [0 0 0 0 1]\n",
            " [0 0 0 0 1]\n",
            " [0 0 0 0 1]\n",
            " [0 0 0 0 1]\n",
            " [0 0 0 0 1]\n",
            " [0 0 0 0 1]\n",
            " [0 0 0 0 1]\n",
            " [0 0 0 0 1]\n",
            " [0 0 0 0 1]\n",
            " [0 0 0 0 1]\n",
            " [0 0 0 0 1]\n",
            " [0 0 0 0 1]\n",
            " [0 0 0 0 1]\n",
            " [0 0 0 0 1]\n",
            " [0 0 0 0 1]\n",
            " [0 0 0 0 1]\n",
            " [0 0 0 0 1]\n",
            " [0 0 0 0 1]\n",
            " [0 0 0 0 1]\n",
            " [0 0 0 0 1]\n",
            " [0 0 0 0 1]\n",
            " [0 0 0 0 1]\n",
            " [0 0 0 0 1]\n",
            " [0 0 0 0 1]\n",
            " [0 0 0 0 1]]\n"
          ]
        }
      ]
    },
    {
      "cell_type": "code",
      "source": [
        "# Define the LSTM model\n",
        "model = tf.keras.Sequential([\n",
        "    tf.keras.layers.LSTM(32*NO_OF_CATEGORIES, input_shape=(SEQUENCE_LENGTH, 99)),\n",
        "    tf.keras.layers.Dropout(0.2),\n",
        "    tf.keras.layers.Dense(16*NO_OF_CATEGORIES, activation='relu'),\n",
        "    tf.keras.layers.Dropout(0.2),\n",
        "    tf.keras.layers.Dense(8*NO_OF_CATEGORIES, activation='relu'),\n",
        "    tf.keras.layers.Dropout(0.2),\n",
        "    tf.keras.layers.Dense(4*NO_OF_CATEGORIES, activation='relu'),\n",
        "    tf.keras.layers.Dropout(0.2),\n",
        "    tf.keras.layers.Dense(2*NO_OF_CATEGORIES, activation='relu'),\n",
        "    tf.keras.layers.Dropout(0.2),\n",
        "    tf.keras.layers.Dense(NO_OF_CATEGORIES, activation='softmax')\n",
        "])\n",
        "\n",
        "# Compile the model\n",
        "model.compile(loss='categorical_crossentropy',\n",
        "              optimizer='adam', metrics=['accuracy'])\n",
        "\n",
        "# Print the model summary\n",
        "model.summary()"
      ],
      "metadata": {
        "colab": {
          "base_uri": "https://localhost:8080/"
        },
        "id": "TPaUei9taVq-",
        "outputId": "78d5abd3-8748-4726-9a30-0a0f30488677"
      },
      "execution_count": 225,
      "outputs": [
        {
          "output_type": "stream",
          "name": "stdout",
          "text": [
            "Model: \"sequential_10\"\n",
            "_________________________________________________________________\n",
            " Layer (type)                Output Shape              Param #   \n",
            "=================================================================\n",
            " lstm_10 (LSTM)              (None, 160)               166400    \n",
            "                                                                 \n",
            " dropout_52 (Dropout)        (None, 160)               0         \n",
            "                                                                 \n",
            " dense_52 (Dense)            (None, 80)                12880     \n",
            "                                                                 \n",
            " dropout_53 (Dropout)        (None, 80)                0         \n",
            "                                                                 \n",
            " dense_53 (Dense)            (None, 40)                3240      \n",
            "                                                                 \n",
            " dropout_54 (Dropout)        (None, 40)                0         \n",
            "                                                                 \n",
            " dense_54 (Dense)            (None, 20)                820       \n",
            "                                                                 \n",
            " dropout_55 (Dropout)        (None, 20)                0         \n",
            "                                                                 \n",
            " dense_55 (Dense)            (None, 10)                210       \n",
            "                                                                 \n",
            " dropout_56 (Dropout)        (None, 10)                0         \n",
            "                                                                 \n",
            " dense_56 (Dense)            (None, 5)                 55        \n",
            "                                                                 \n",
            "=================================================================\n",
            "Total params: 183,605\n",
            "Trainable params: 183,605\n",
            "Non-trainable params: 0\n",
            "_________________________________________________________________\n"
          ]
        }
      ]
    },
    {
      "cell_type": "code",
      "source": [
        "X_train, X_test, y_train, y_test = train_test_split(x, z, test_size=0.25, random_state=42)"
      ],
      "metadata": {
        "id": "V65KNv0faVsr"
      },
      "execution_count": 226,
      "outputs": []
    },
    {
      "cell_type": "code",
      "source": [
        "for i in range(len(X_train)):\n",
        "  X_train[i] = tf.constant(X_train[i])\n",
        "for i in range(len(X_test)):\n",
        "  X_test[i] = tf.constant(X_test[i])"
      ],
      "metadata": {
        "id": "QZg9dgjxav-A"
      },
      "execution_count": 227,
      "outputs": []
    },
    {
      "cell_type": "code",
      "source": [
        "x_train = tf.TensorArray(dtype=tf.float64, size=0, dynamic_size=True)\n",
        "x_test = tf.TensorArray(dtype=tf.float64, size=0, dynamic_size=True)\n",
        "\n",
        "for i in range(len(X_train)):\n",
        "  x_train = x_train.write(i, tf.constant(X_train[i]))\n",
        "\n",
        "for i in range(len(X_test)):\n",
        "  x_test = x_test.write(i, tf.constant(X_test[i]))\n",
        "y_train = tf.constant(y_train)\n",
        "y_test = tf.constant(y_test)\n",
        "print(type(x_train))\n",
        "print(type(x_test))"
      ],
      "metadata": {
        "colab": {
          "base_uri": "https://localhost:8080/"
        },
        "id": "S6UY7cbMawAn",
        "outputId": "5d50a9db-3573-44b2-e49e-e7c518a03aa9"
      },
      "execution_count": 228,
      "outputs": [
        {
          "output_type": "stream",
          "name": "stdout",
          "text": [
            "<class 'tensorflow.python.ops.tensor_array_ops.TensorArray'>\n",
            "<class 'tensorflow.python.ops.tensor_array_ops.TensorArray'>\n"
          ]
        }
      ]
    },
    {
      "cell_type": "code",
      "source": [
        "x_train = x_train.stack()\n",
        "x_test = x_test.stack()\n",
        "y_train = y_train.stack()\n",
        "y_test = y_test.stack()"
      ],
      "metadata": {
        "colab": {
          "base_uri": "https://localhost:8080/",
          "height": 374
        },
        "id": "-hwQN72OawCu",
        "outputId": "f171c829-47dc-48fd-bd4e-9378ffe76d9d"
      },
      "execution_count": 229,
      "outputs": [
        {
          "output_type": "error",
          "ename": "AttributeError",
          "evalue": "ignored",
          "traceback": [
            "\u001b[0;31m---------------------------------------------------------------------------\u001b[0m",
            "\u001b[0;31mAttributeError\u001b[0m                            Traceback (most recent call last)",
            "\u001b[0;32m<ipython-input-229-01f5c70ae757>\u001b[0m in \u001b[0;36m<cell line: 3>\u001b[0;34m()\u001b[0m\n\u001b[1;32m      1\u001b[0m \u001b[0mx_train\u001b[0m \u001b[0;34m=\u001b[0m \u001b[0mx_train\u001b[0m\u001b[0;34m.\u001b[0m\u001b[0mstack\u001b[0m\u001b[0;34m(\u001b[0m\u001b[0;34m)\u001b[0m\u001b[0;34m\u001b[0m\u001b[0;34m\u001b[0m\u001b[0m\n\u001b[1;32m      2\u001b[0m \u001b[0mx_test\u001b[0m \u001b[0;34m=\u001b[0m \u001b[0mx_test\u001b[0m\u001b[0;34m.\u001b[0m\u001b[0mstack\u001b[0m\u001b[0;34m(\u001b[0m\u001b[0;34m)\u001b[0m\u001b[0;34m\u001b[0m\u001b[0;34m\u001b[0m\u001b[0m\n\u001b[0;32m----> 3\u001b[0;31m \u001b[0my_train\u001b[0m \u001b[0;34m=\u001b[0m \u001b[0my_train\u001b[0m\u001b[0;34m.\u001b[0m\u001b[0mstack\u001b[0m\u001b[0;34m(\u001b[0m\u001b[0;34m)\u001b[0m\u001b[0;34m\u001b[0m\u001b[0;34m\u001b[0m\u001b[0m\n\u001b[0m\u001b[1;32m      4\u001b[0m \u001b[0my_test\u001b[0m \u001b[0;34m=\u001b[0m \u001b[0my_test\u001b[0m\u001b[0;34m.\u001b[0m\u001b[0mstack\u001b[0m\u001b[0;34m(\u001b[0m\u001b[0;34m)\u001b[0m\u001b[0;34m\u001b[0m\u001b[0;34m\u001b[0m\u001b[0m\n",
            "\u001b[0;32m/usr/local/lib/python3.10/dist-packages/tensorflow/python/framework/ops.py\u001b[0m in \u001b[0;36m__getattr__\u001b[0;34m(self, name)\u001b[0m\n\u001b[1;32m    441\u001b[0m         \u001b[0mnp_config\u001b[0m\u001b[0;34m.\u001b[0m\u001b[0menable_numpy_behavior\u001b[0m\u001b[0;34m(\u001b[0m\u001b[0;34m)\u001b[0m\u001b[0;34m\u001b[0m\u001b[0;34m\u001b[0m\u001b[0m\n\u001b[1;32m    442\u001b[0m       \"\"\")\n\u001b[0;32m--> 443\u001b[0;31m     \u001b[0mself\u001b[0m\u001b[0;34m.\u001b[0m\u001b[0m__getattribute__\u001b[0m\u001b[0;34m(\u001b[0m\u001b[0mname\u001b[0m\u001b[0;34m)\u001b[0m\u001b[0;34m\u001b[0m\u001b[0;34m\u001b[0m\u001b[0m\n\u001b[0m\u001b[1;32m    444\u001b[0m \u001b[0;34m\u001b[0m\u001b[0m\n\u001b[1;32m    445\u001b[0m   \u001b[0;34m@\u001b[0m\u001b[0mstaticmethod\u001b[0m\u001b[0;34m\u001b[0m\u001b[0;34m\u001b[0m\u001b[0m\n",
            "\u001b[0;31mAttributeError\u001b[0m: 'tensorflow.python.framework.ops.EagerTensor' object has no attribute 'stack'"
          ]
        }
      ]
    },
    {
      "cell_type": "code",
      "source": [
        "early_stopping = EarlyStopping(monitor='val_loss', patience=5)\n",
        "model.fit(x_train, y_train, validation_data=(x_test, y_test), epochs=500, batch_size=40, callbacks=[early_stopping])"
      ],
      "metadata": {
        "colab": {
          "base_uri": "https://localhost:8080/"
        },
        "id": "jPD7OfFfawHA",
        "outputId": "5987a39d-a5ac-444a-9701-acbb33ab4105"
      },
      "execution_count": 230,
      "outputs": [
        {
          "output_type": "stream",
          "name": "stdout",
          "text": [
            "Epoch 1/500\n",
            "4/4 [==============================] - 8s 452ms/step - loss: 1.6191 - accuracy: 0.1618 - val_loss: 1.6081 - val_accuracy: 0.0588\n",
            "Epoch 2/500\n",
            "4/4 [==============================] - 0s 17ms/step - loss: 1.6053 - accuracy: 0.1691 - val_loss: 1.5845 - val_accuracy: 0.1471\n",
            "Epoch 3/500\n",
            "4/4 [==============================] - 0s 19ms/step - loss: 1.5668 - accuracy: 0.2868 - val_loss: 1.5426 - val_accuracy: 0.5000\n",
            "Epoch 4/500\n",
            "4/4 [==============================] - 0s 16ms/step - loss: 1.5602 - accuracy: 0.3015 - val_loss: 1.5016 - val_accuracy: 0.5588\n",
            "Epoch 5/500\n",
            "4/4 [==============================] - 0s 16ms/step - loss: 1.5485 - accuracy: 0.3382 - val_loss: 1.4813 - val_accuracy: 0.4706\n",
            "Epoch 6/500\n",
            "4/4 [==============================] - 0s 16ms/step - loss: 1.5244 - accuracy: 0.2500 - val_loss: 1.4462 - val_accuracy: 0.5000\n",
            "Epoch 7/500\n",
            "4/4 [==============================] - 0s 16ms/step - loss: 1.4925 - accuracy: 0.3235 - val_loss: 1.4077 - val_accuracy: 0.5294\n",
            "Epoch 8/500\n",
            "4/4 [==============================] - 0s 16ms/step - loss: 1.4659 - accuracy: 0.3382 - val_loss: 1.3917 - val_accuracy: 0.4706\n",
            "Epoch 9/500\n",
            "4/4 [==============================] - 0s 16ms/step - loss: 1.4241 - accuracy: 0.3456 - val_loss: 1.3608 - val_accuracy: 0.4412\n",
            "Epoch 10/500\n",
            "4/4 [==============================] - 0s 16ms/step - loss: 1.4268 - accuracy: 0.3824 - val_loss: 1.3324 - val_accuracy: 0.5000\n",
            "Epoch 11/500\n",
            "4/4 [==============================] - 0s 17ms/step - loss: 1.4209 - accuracy: 0.3971 - val_loss: 1.2795 - val_accuracy: 0.4118\n",
            "Epoch 12/500\n",
            "4/4 [==============================] - 0s 16ms/step - loss: 1.3876 - accuracy: 0.3676 - val_loss: 1.2486 - val_accuracy: 0.5294\n",
            "Epoch 13/500\n",
            "4/4 [==============================] - 0s 16ms/step - loss: 1.3179 - accuracy: 0.4559 - val_loss: 1.1850 - val_accuracy: 0.5294\n",
            "Epoch 14/500\n",
            "4/4 [==============================] - 0s 16ms/step - loss: 1.2765 - accuracy: 0.4412 - val_loss: 1.1735 - val_accuracy: 0.4118\n",
            "Epoch 15/500\n",
            "4/4 [==============================] - 0s 16ms/step - loss: 1.2136 - accuracy: 0.4632 - val_loss: 1.0560 - val_accuracy: 0.5294\n",
            "Epoch 16/500\n",
            "4/4 [==============================] - 0s 16ms/step - loss: 1.1698 - accuracy: 0.5441 - val_loss: 0.9860 - val_accuracy: 0.5882\n",
            "Epoch 17/500\n",
            "4/4 [==============================] - 0s 23ms/step - loss: 1.1749 - accuracy: 0.5147 - val_loss: 0.9558 - val_accuracy: 0.6176\n",
            "Epoch 18/500\n",
            "4/4 [==============================] - 0s 16ms/step - loss: 1.0610 - accuracy: 0.5882 - val_loss: 0.8436 - val_accuracy: 0.5882\n",
            "Epoch 19/500\n",
            "4/4 [==============================] - 0s 16ms/step - loss: 1.0029 - accuracy: 0.5662 - val_loss: 0.9059 - val_accuracy: 0.5882\n",
            "Epoch 20/500\n",
            "4/4 [==============================] - 0s 16ms/step - loss: 1.0684 - accuracy: 0.5809 - val_loss: 0.8100 - val_accuracy: 0.6471\n",
            "Epoch 21/500\n",
            "4/4 [==============================] - 0s 20ms/step - loss: 1.0626 - accuracy: 0.5515 - val_loss: 0.7596 - val_accuracy: 0.6471\n",
            "Epoch 22/500\n",
            "4/4 [==============================] - 0s 16ms/step - loss: 1.1396 - accuracy: 0.5294 - val_loss: 0.7867 - val_accuracy: 0.6176\n",
            "Epoch 23/500\n",
            "4/4 [==============================] - 0s 16ms/step - loss: 0.9155 - accuracy: 0.6029 - val_loss: 0.7945 - val_accuracy: 0.7353\n",
            "Epoch 24/500\n",
            "4/4 [==============================] - 0s 16ms/step - loss: 0.8662 - accuracy: 0.6324 - val_loss: 0.6737 - val_accuracy: 0.7647\n",
            "Epoch 25/500\n",
            "4/4 [==============================] - 0s 22ms/step - loss: 0.9982 - accuracy: 0.5588 - val_loss: 0.7587 - val_accuracy: 0.7059\n",
            "Epoch 26/500\n",
            "4/4 [==============================] - 0s 18ms/step - loss: 0.8333 - accuracy: 0.6544 - val_loss: 0.5961 - val_accuracy: 0.7941\n",
            "Epoch 27/500\n",
            "4/4 [==============================] - 0s 16ms/step - loss: 0.7855 - accuracy: 0.7279 - val_loss: 0.6190 - val_accuracy: 0.7647\n",
            "Epoch 28/500\n",
            "4/4 [==============================] - 0s 22ms/step - loss: 0.9255 - accuracy: 0.6691 - val_loss: 0.7329 - val_accuracy: 0.7059\n",
            "Epoch 29/500\n",
            "4/4 [==============================] - 0s 18ms/step - loss: 0.8240 - accuracy: 0.6765 - val_loss: 0.6167 - val_accuracy: 0.7647\n",
            "Epoch 30/500\n",
            "4/4 [==============================] - 0s 16ms/step - loss: 0.7776 - accuracy: 0.7647 - val_loss: 0.6070 - val_accuracy: 0.7941\n",
            "Epoch 31/500\n",
            "4/4 [==============================] - 0s 22ms/step - loss: 0.8208 - accuracy: 0.7059 - val_loss: 0.5579 - val_accuracy: 0.8529\n",
            "Epoch 32/500\n",
            "4/4 [==============================] - 0s 17ms/step - loss: 0.7829 - accuracy: 0.7647 - val_loss: 0.6290 - val_accuracy: 0.7647\n",
            "Epoch 33/500\n",
            "4/4 [==============================] - 0s 20ms/step - loss: 0.7404 - accuracy: 0.7794 - val_loss: 0.7079 - val_accuracy: 0.7353\n",
            "Epoch 34/500\n",
            "4/4 [==============================] - 0s 17ms/step - loss: 0.7636 - accuracy: 0.7206 - val_loss: 0.7206 - val_accuracy: 0.8235\n",
            "Epoch 35/500\n",
            "4/4 [==============================] - 0s 16ms/step - loss: 0.7704 - accuracy: 0.7574 - val_loss: 0.5738 - val_accuracy: 0.8824\n",
            "Epoch 36/500\n",
            "4/4 [==============================] - 0s 16ms/step - loss: 0.7287 - accuracy: 0.7500 - val_loss: 0.5558 - val_accuracy: 0.8235\n",
            "Epoch 37/500\n",
            "4/4 [==============================] - 0s 17ms/step - loss: 0.6922 - accuracy: 0.7794 - val_loss: 0.5733 - val_accuracy: 0.7941\n",
            "Epoch 38/500\n",
            "4/4 [==============================] - 0s 16ms/step - loss: 0.6996 - accuracy: 0.8235 - val_loss: 0.5599 - val_accuracy: 0.8824\n",
            "Epoch 39/500\n",
            "4/4 [==============================] - 0s 24ms/step - loss: 0.6760 - accuracy: 0.8309 - val_loss: 0.5550 - val_accuracy: 0.8824\n",
            "Epoch 40/500\n",
            "4/4 [==============================] - 0s 29ms/step - loss: 0.6652 - accuracy: 0.8235 - val_loss: 0.5971 - val_accuracy: 0.8824\n",
            "Epoch 41/500\n",
            "4/4 [==============================] - 0s 29ms/step - loss: 0.6440 - accuracy: 0.7868 - val_loss: 0.5924 - val_accuracy: 0.8824\n",
            "Epoch 42/500\n",
            "4/4 [==============================] - 0s 32ms/step - loss: 0.6201 - accuracy: 0.8676 - val_loss: 0.5570 - val_accuracy: 0.8529\n",
            "Epoch 43/500\n",
            "4/4 [==============================] - 0s 44ms/step - loss: 0.6013 - accuracy: 0.8382 - val_loss: 0.5824 - val_accuracy: 0.8235\n",
            "Epoch 44/500\n",
            "4/4 [==============================] - 0s 40ms/step - loss: 0.5925 - accuracy: 0.8456 - val_loss: 0.6625 - val_accuracy: 0.8235\n"
          ]
        },
        {
          "output_type": "execute_result",
          "data": {
            "text/plain": [
              "<keras.callbacks.History at 0x7fb0c5af5600>"
            ]
          },
          "metadata": {},
          "execution_count": 230
        }
      ]
    },
    {
      "cell_type": "code",
      "source": [
        "loss, accuracy = model.evaluate(x_test, y_test)"
      ],
      "metadata": {
        "colab": {
          "base_uri": "https://localhost:8080/"
        },
        "id": "ItatvzpVawJ4",
        "outputId": "8a55b6b0-6799-4c9b-a192-23c90543421c"
      },
      "execution_count": 231,
      "outputs": [
        {
          "output_type": "stream",
          "name": "stdout",
          "text": [
            "2/2 [==============================] - 0s 12ms/step - loss: 0.6625 - accuracy: 0.8235\n"
          ]
        }
      ]
    },
    {
      "cell_type": "code",
      "source": [
        "print(loss)\n",
        "print(accuracy)"
      ],
      "metadata": {
        "colab": {
          "base_uri": "https://localhost:8080/"
        },
        "id": "1-0AyrqjawMi",
        "outputId": "5a1618aa-b397-4965-bfea-d82f8bf0822b"
      },
      "execution_count": 232,
      "outputs": [
        {
          "output_type": "stream",
          "name": "stdout",
          "text": [
            "0.6624969244003296\n",
            "0.8235294222831726\n"
          ]
        }
      ]
    },
    {
      "cell_type": "code",
      "source": [
        "y_pred = model.predict(x_test)"
      ],
      "metadata": {
        "colab": {
          "base_uri": "https://localhost:8080/"
        },
        "id": "ZS5pWPzZawP1",
        "outputId": "0a573529-d795-4a4d-d7a6-9c6bef015306"
      },
      "execution_count": 233,
      "outputs": [
        {
          "output_type": "stream",
          "name": "stdout",
          "text": [
            "2/2 [==============================] - 1s 7ms/step\n"
          ]
        }
      ]
    },
    {
      "cell_type": "code",
      "source": [
        "print(y_test)"
      ],
      "metadata": {
        "colab": {
          "base_uri": "https://localhost:8080/"
        },
        "id": "fSYZvVobaVv5",
        "outputId": "a0e566a4-b638-4aca-db01-7a76dcccc479"
      },
      "execution_count": 234,
      "outputs": [
        {
          "output_type": "stream",
          "name": "stdout",
          "text": [
            "tf.Tensor(\n",
            "[[0 0 0 0 1]\n",
            " [1 0 0 0 0]\n",
            " [0 0 0 1 0]\n",
            " [1 0 0 0 0]\n",
            " [0 0 0 0 1]\n",
            " [0 0 0 0 1]\n",
            " [0 0 0 0 1]\n",
            " [0 1 0 0 0]\n",
            " [0 0 1 0 0]\n",
            " [0 1 0 0 0]\n",
            " [1 0 0 0 0]\n",
            " [0 0 0 0 1]\n",
            " [0 0 0 1 0]\n",
            " [0 1 0 0 0]\n",
            " [0 1 0 0 0]\n",
            " [0 1 0 0 0]\n",
            " [1 0 0 0 0]\n",
            " [0 0 1 0 0]\n",
            " [0 1 0 0 0]\n",
            " [0 0 1 0 0]\n",
            " [1 0 0 0 0]\n",
            " [1 0 0 0 0]\n",
            " [1 0 0 0 0]\n",
            " [1 0 0 0 0]\n",
            " [1 0 0 0 0]\n",
            " [1 0 0 0 0]\n",
            " [0 1 0 0 0]\n",
            " [0 0 1 0 0]\n",
            " [0 1 0 0 0]\n",
            " [0 1 0 0 0]\n",
            " [1 0 0 0 0]\n",
            " [0 1 0 0 0]\n",
            " [0 0 0 0 1]\n",
            " [0 0 1 0 0]], shape=(34, 5), dtype=int64)\n"
          ]
        }
      ]
    },
    {
      "cell_type": "code",
      "source": [
        "print(y_pred.shape)"
      ],
      "metadata": {
        "colab": {
          "base_uri": "https://localhost:8080/"
        },
        "id": "vXDsUYN8bEM8",
        "outputId": "aad1eb38-ae7d-45e8-9961-6742e85cedfb"
      },
      "execution_count": 235,
      "outputs": [
        {
          "output_type": "stream",
          "name": "stdout",
          "text": [
            "(34, 5)\n"
          ]
        }
      ]
    },
    {
      "cell_type": "code",
      "source": [
        "y_predd = []\n",
        "for i in range(0, y_pred.shape[0]):\n",
        "  label = 0\n",
        "  val = 2.2250738585072014e-308\n",
        "  for j in range(0, NO_OF_CATEGORIES):\n",
        "    if y_pred[i][j] > val:\n",
        "      val = y_pred[i][j]\n",
        "      label = j\n",
        "  y_predd.append(label)"
      ],
      "metadata": {
        "id": "hUY-wKOtbEQe"
      },
      "execution_count": 236,
      "outputs": []
    },
    {
      "cell_type": "code",
      "source": [
        "y_true = []\n",
        "for i in range(0, y_pred.shape[0]):\n",
        "  for j in range(0, NO_OF_CATEGORIES):\n",
        "    if y_test[i][j] == 1:\n",
        "      y_true.append(j)"
      ],
      "metadata": {
        "id": "z80V3JDXbESs"
      },
      "execution_count": 237,
      "outputs": []
    },
    {
      "cell_type": "code",
      "source": [
        "print(y_predd)"
      ],
      "metadata": {
        "colab": {
          "base_uri": "https://localhost:8080/"
        },
        "id": "ImKAMrwAbJL_",
        "outputId": "a2f6402a-10d5-434a-d34c-dca83a58b954"
      },
      "execution_count": 238,
      "outputs": [
        {
          "output_type": "stream",
          "name": "stdout",
          "text": [
            "[4, 0, 3, 0, 4, 4, 4, 1, 3, 1, 0, 4, 1, 1, 1, 1, 0, 3, 1, 2, 0, 0, 2, 0, 0, 0, 1, 3, 1, 1, 0, 1, 4, 3]\n"
          ]
        }
      ]
    },
    {
      "cell_type": "code",
      "source": [
        "print(y_true)"
      ],
      "metadata": {
        "colab": {
          "base_uri": "https://localhost:8080/"
        },
        "id": "QAoRpY44bJb1",
        "outputId": "b50f19ba-3104-46e0-99f1-e7cf7fa6b823"
      },
      "execution_count": 239,
      "outputs": [
        {
          "output_type": "stream",
          "name": "stdout",
          "text": [
            "[4, 0, 3, 0, 4, 4, 4, 1, 2, 1, 0, 4, 3, 1, 1, 1, 0, 2, 1, 2, 0, 0, 0, 0, 0, 0, 1, 2, 1, 1, 0, 1, 4, 2]\n"
          ]
        }
      ]
    },
    {
      "cell_type": "code",
      "source": [
        "cm = confusion_matrix(y_true, y_predd)"
      ],
      "metadata": {
        "id": "YNxi8dDQbJfZ"
      },
      "execution_count": 240,
      "outputs": []
    },
    {
      "cell_type": "code",
      "source": [
        "print(classification_report(y_true, y_predd))"
      ],
      "metadata": {
        "colab": {
          "base_uri": "https://localhost:8080/"
        },
        "id": "hsjCH-msbEWA",
        "outputId": "2f8d768d-a73f-4931-de7a-93b3ef44d042"
      },
      "execution_count": 241,
      "outputs": [
        {
          "output_type": "stream",
          "name": "stdout",
          "text": [
            "              precision    recall  f1-score   support\n",
            "\n",
            "           0       1.00      0.91      0.95        11\n",
            "           1       0.91      1.00      0.95        10\n",
            "           2       0.50      0.20      0.29         5\n",
            "           3       0.20      0.50      0.29         2\n",
            "           4       1.00      1.00      1.00         6\n",
            "\n",
            "    accuracy                           0.82        34\n",
            "   macro avg       0.72      0.72      0.70        34\n",
            "weighted avg       0.85      0.82      0.82        34\n",
            "\n"
          ]
        }
      ]
    }
  ]
}